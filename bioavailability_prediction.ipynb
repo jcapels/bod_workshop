{
  "nbformat": 4,
  "nbformat_minor": 0,
  "metadata": {
    "colab": {
      "provenance": []
    },
    "kernelspec": {
      "name": "python3",
      "display_name": "Python 3"
    },
    "language_info": {
      "name": "python"
    }
  },
  "cells": [
    {
      "cell_type": "code",
      "source": [
        "!pip install deepmol[machine-learning]"
      ],
      "metadata": {
        "id": "Q1DdZHkHv5iQ",
        "colab": {
          "base_uri": "https://localhost:8080/"
        },
        "outputId": "2271c448-d2ae-4c94-b103-efdbec38cec0"
      },
      "execution_count": null,
      "outputs": [
        {
          "output_type": "stream",
          "name": "stdout",
          "text": [
            "Collecting deepmol[machine-learning]\n",
            "  Downloading deepmol-1.1.13-py3-none-any.whl.metadata (33 kB)\n",
            "Collecting rdkit==2023.9.6 (from deepmol[machine-learning])\n",
            "  Downloading rdkit-2023.9.6-cp311-cp311-manylinux_2_17_x86_64.manylinux2014_x86_64.whl.metadata (3.9 kB)\n",
            "Collecting cached_property==1.5.2 (from deepmol[machine-learning])\n",
            "  Downloading cached_property-1.5.2-py2.py3-none-any.whl.metadata (11 kB)\n",
            "Requirement already satisfied: seaborn in /usr/local/lib/python3.11/dist-packages (from deepmol[machine-learning]) (0.13.2)\n",
            "Requirement already satisfied: joblib in /usr/local/lib/python3.11/dist-packages (from deepmol[machine-learning]) (1.4.2)\n",
            "Requirement already satisfied: pillow in /usr/local/lib/python3.11/dist-packages (from deepmol[machine-learning]) (11.1.0)\n",
            "Requirement already satisfied: h5py in /usr/local/lib/python3.11/dist-packages (from deepmol[machine-learning]) (3.13.0)\n",
            "Collecting timeout_decorator==0.5.0 (from deepmol[machine-learning])\n",
            "  Downloading timeout-decorator-0.5.0.tar.gz (4.8 kB)\n",
            "  Preparing metadata (setup.py) ... \u001b[?25l\u001b[?25hdone\n",
            "Requirement already satisfied: numpy in /usr/local/lib/python3.11/dist-packages (from deepmol[machine-learning]) (2.0.2)\n",
            "Collecting smilespe==0.0.3 (from deepmol[machine-learning])\n",
            "  Downloading SmilesPE-0.0.3-py3-none-any.whl.metadata (4.0 kB)\n",
            "Collecting imblearn (from deepmol[machine-learning])\n",
            "  Downloading imblearn-0.0-py2.py3-none-any.whl.metadata (355 bytes)\n",
            "Collecting scikit-learn<1.6 (from deepmol[machine-learning])\n",
            "  Downloading scikit_learn-1.5.2-cp311-cp311-manylinux_2_17_x86_64.manylinux2014_x86_64.whl.metadata (13 kB)\n",
            "Collecting dill==0.3.6 (from deepmol[machine-learning])\n",
            "  Downloading dill-0.3.6-py3-none-any.whl.metadata (9.8 kB)\n",
            "Collecting scikit-multilearn==0.2.0 (from deepmol[machine-learning])\n",
            "  Downloading scikit_multilearn-0.2.0-py3-none-any.whl.metadata (6.0 kB)\n",
            "Collecting shap==0.44.0 (from deepmol[machine-learning])\n",
            "  Downloading shap-0.44.0-cp311-cp311-manylinux_2_12_x86_64.manylinux2010_x86_64.manylinux_2_17_x86_64.manylinux2014_x86_64.whl.metadata (24 kB)\n",
            "Collecting optuna==4.1.0 (from deepmol[machine-learning])\n",
            "  Downloading optuna-4.1.0-py3-none-any.whl.metadata (16 kB)\n",
            "Collecting umap-learn==0.5.1 (from deepmol[machine-learning])\n",
            "  Downloading umap-learn-0.5.1.tar.gz (80 kB)\n",
            "\u001b[2K     \u001b[90m━━━━━━━━━━━━━━━━━━━━━━━━━━━━━━━━━━━━━━━━\u001b[0m \u001b[32m80.9/80.9 kB\u001b[0m \u001b[31m3.2 MB/s\u001b[0m eta \u001b[36m0:00:00\u001b[0m\n",
            "\u001b[?25h  Preparing metadata (setup.py) ... \u001b[?25l\u001b[?25hdone\n",
            "Collecting chembl_structure_pipeline==1.1.0 (from deepmol[machine-learning])\n",
            "  Downloading chembl_structure_pipeline-1.1.0-py3-none-any.whl.metadata (320 bytes)\n",
            "Collecting pandas<=2.0.0 (from deepmol[machine-learning])\n",
            "  Downloading pandas-2.0.0-cp311-cp311-manylinux_2_17_x86_64.manylinux2014_x86_64.whl.metadata (18 kB)\n",
            "Collecting kaleido==0.2.1 (from deepmol[machine-learning])\n",
            "  Downloading kaleido-0.2.1-py2.py3-none-manylinux1_x86_64.whl.metadata (15 kB)\n",
            "Requirement already satisfied: plotly in /usr/local/lib/python3.11/dist-packages (from deepmol[machine-learning]) (5.24.1)\n",
            "Requirement already satisfied: IPython in /usr/local/lib/python3.11/dist-packages (from deepmol[machine-learning]) (7.34.0)\n",
            "Collecting boruta==0.4.3 (from deepmol[machine-learning])\n",
            "  Downloading Boruta-0.4.3-py3-none-any.whl.metadata (8.8 kB)\n",
            "Collecting kneed==0.8.2 (from deepmol[machine-learning])\n",
            "  Downloading kneed-0.8.2-py3-none-any.whl.metadata (5.5 kB)\n",
            "Requirement already satisfied: scipy>=0.17.0 in /usr/local/lib/python3.11/dist-packages (from boruta==0.4.3->deepmol[machine-learning]) (1.14.1)\n",
            "Requirement already satisfied: setuptools>=46.4.0 in /usr/local/lib/python3.11/dist-packages (from chembl_structure_pipeline==1.1.0->deepmol[machine-learning]) (75.1.0)\n",
            "Collecting alembic>=1.5.0 (from optuna==4.1.0->deepmol[machine-learning])\n",
            "  Downloading alembic-1.15.2-py3-none-any.whl.metadata (7.3 kB)\n",
            "Collecting colorlog (from optuna==4.1.0->deepmol[machine-learning])\n",
            "  Downloading colorlog-6.9.0-py3-none-any.whl.metadata (10 kB)\n",
            "Requirement already satisfied: packaging>=20.0 in /usr/local/lib/python3.11/dist-packages (from optuna==4.1.0->deepmol[machine-learning]) (24.2)\n",
            "Requirement already satisfied: sqlalchemy>=1.4.2 in /usr/local/lib/python3.11/dist-packages (from optuna==4.1.0->deepmol[machine-learning]) (2.0.39)\n",
            "Requirement already satisfied: tqdm in /usr/local/lib/python3.11/dist-packages (from optuna==4.1.0->deepmol[machine-learning]) (4.67.1)\n",
            "Requirement already satisfied: PyYAML in /usr/local/lib/python3.11/dist-packages (from optuna==4.1.0->deepmol[machine-learning]) (6.0.2)\n",
            "Collecting slicer==0.0.7 (from shap==0.44.0->deepmol[machine-learning])\n",
            "  Downloading slicer-0.0.7-py3-none-any.whl.metadata (3.7 kB)\n",
            "Requirement already satisfied: numba in /usr/local/lib/python3.11/dist-packages (from shap==0.44.0->deepmol[machine-learning]) (0.60.0)\n",
            "Requirement already satisfied: cloudpickle in /usr/local/lib/python3.11/dist-packages (from shap==0.44.0->deepmol[machine-learning]) (3.1.1)\n",
            "Requirement already satisfied: fastprogress in /usr/local/lib/python3.11/dist-packages (from smilespe==0.0.3->deepmol[machine-learning]) (1.0.3)\n",
            "Collecting gensim (from smilespe==0.0.3->deepmol[machine-learning])\n",
            "  Downloading gensim-4.3.3-cp311-cp311-manylinux_2_17_x86_64.manylinux2014_x86_64.whl.metadata (8.1 kB)\n",
            "Requirement already satisfied: pynndescent>=0.5 in /usr/local/lib/python3.11/dist-packages (from umap-learn==0.5.1->deepmol[machine-learning]) (0.5.13)\n",
            "Requirement already satisfied: python-dateutil>=2.8.2 in /usr/local/lib/python3.11/dist-packages (from pandas<=2.0.0->deepmol[machine-learning]) (2.8.2)\n",
            "Requirement already satisfied: pytz>=2020.1 in /usr/local/lib/python3.11/dist-packages (from pandas<=2.0.0->deepmol[machine-learning]) (2025.1)\n",
            "Requirement already satisfied: tzdata>=2022.1 in /usr/local/lib/python3.11/dist-packages (from pandas<=2.0.0->deepmol[machine-learning]) (2025.1)\n",
            "Requirement already satisfied: threadpoolctl>=3.1.0 in /usr/local/lib/python3.11/dist-packages (from scikit-learn<1.6->deepmol[machine-learning]) (3.6.0)\n",
            "Requirement already satisfied: imbalanced-learn in /usr/local/lib/python3.11/dist-packages (from imblearn->deepmol[machine-learning]) (0.13.0)\n",
            "Collecting jedi>=0.16 (from IPython->deepmol[machine-learning])\n",
            "  Downloading jedi-0.19.2-py2.py3-none-any.whl.metadata (22 kB)\n",
            "Requirement already satisfied: decorator in /usr/local/lib/python3.11/dist-packages (from IPython->deepmol[machine-learning]) (4.4.2)\n",
            "Requirement already satisfied: pickleshare in /usr/local/lib/python3.11/dist-packages (from IPython->deepmol[machine-learning]) (0.7.5)\n",
            "Requirement already satisfied: traitlets>=4.2 in /usr/local/lib/python3.11/dist-packages (from IPython->deepmol[machine-learning]) (5.7.1)\n",
            "Requirement already satisfied: prompt-toolkit!=3.0.0,!=3.0.1,<3.1.0,>=2.0.0 in /usr/local/lib/python3.11/dist-packages (from IPython->deepmol[machine-learning]) (3.0.50)\n",
            "Requirement already satisfied: pygments in /usr/local/lib/python3.11/dist-packages (from IPython->deepmol[machine-learning]) (2.18.0)\n",
            "Requirement already satisfied: backcall in /usr/local/lib/python3.11/dist-packages (from IPython->deepmol[machine-learning]) (0.2.0)\n",
            "Requirement already satisfied: matplotlib-inline in /usr/local/lib/python3.11/dist-packages (from IPython->deepmol[machine-learning]) (0.1.7)\n",
            "Requirement already satisfied: pexpect>4.3 in /usr/local/lib/python3.11/dist-packages (from IPython->deepmol[machine-learning]) (4.9.0)\n",
            "Requirement already satisfied: tenacity>=6.2.0 in /usr/local/lib/python3.11/dist-packages (from plotly->deepmol[machine-learning]) (9.0.0)\n",
            "Requirement already satisfied: matplotlib!=3.6.1,>=3.4 in /usr/local/lib/python3.11/dist-packages (from seaborn->deepmol[machine-learning]) (3.10.0)\n",
            "Requirement already satisfied: Mako in /usr/lib/python3/dist-packages (from alembic>=1.5.0->optuna==4.1.0->deepmol[machine-learning]) (1.1.3)\n",
            "Requirement already satisfied: typing-extensions>=4.12 in /usr/local/lib/python3.11/dist-packages (from alembic>=1.5.0->optuna==4.1.0->deepmol[machine-learning]) (4.12.2)\n",
            "Requirement already satisfied: parso<0.9.0,>=0.8.4 in /usr/local/lib/python3.11/dist-packages (from jedi>=0.16->IPython->deepmol[machine-learning]) (0.8.4)\n",
            "Requirement already satisfied: contourpy>=1.0.1 in /usr/local/lib/python3.11/dist-packages (from matplotlib!=3.6.1,>=3.4->seaborn->deepmol[machine-learning]) (1.3.1)\n",
            "Requirement already satisfied: cycler>=0.10 in /usr/local/lib/python3.11/dist-packages (from matplotlib!=3.6.1,>=3.4->seaborn->deepmol[machine-learning]) (0.12.1)\n",
            "Requirement already satisfied: fonttools>=4.22.0 in /usr/local/lib/python3.11/dist-packages (from matplotlib!=3.6.1,>=3.4->seaborn->deepmol[machine-learning]) (4.56.0)\n",
            "Requirement already satisfied: kiwisolver>=1.3.1 in /usr/local/lib/python3.11/dist-packages (from matplotlib!=3.6.1,>=3.4->seaborn->deepmol[machine-learning]) (1.4.8)\n",
            "Requirement already satisfied: pyparsing>=2.3.1 in /usr/local/lib/python3.11/dist-packages (from matplotlib!=3.6.1,>=3.4->seaborn->deepmol[machine-learning]) (3.2.1)\n",
            "Requirement already satisfied: llvmlite<0.44,>=0.43.0dev0 in /usr/local/lib/python3.11/dist-packages (from numba->shap==0.44.0->deepmol[machine-learning]) (0.43.0)\n",
            "Requirement already satisfied: ptyprocess>=0.5 in /usr/local/lib/python3.11/dist-packages (from pexpect>4.3->IPython->deepmol[machine-learning]) (0.7.0)\n",
            "Requirement already satisfied: wcwidth in /usr/local/lib/python3.11/dist-packages (from prompt-toolkit!=3.0.0,!=3.0.1,<3.1.0,>=2.0.0->IPython->deepmol[machine-learning]) (0.2.13)\n",
            "Requirement already satisfied: six>=1.5 in /usr/local/lib/python3.11/dist-packages (from python-dateutil>=2.8.2->pandas<=2.0.0->deepmol[machine-learning]) (1.17.0)\n",
            "Requirement already satisfied: greenlet!=0.4.17 in /usr/local/lib/python3.11/dist-packages (from sqlalchemy>=1.4.2->optuna==4.1.0->deepmol[machine-learning]) (3.1.1)\n",
            "Collecting numpy (from deepmol[machine-learning])\n",
            "  Downloading numpy-1.26.4-cp311-cp311-manylinux_2_17_x86_64.manylinux2014_x86_64.whl.metadata (61 kB)\n",
            "\u001b[2K     \u001b[90m━━━━━━━━━━━━━━━━━━━━━━━━━━━━━━━━━━━━━━━━\u001b[0m \u001b[32m61.0/61.0 kB\u001b[0m \u001b[31m1.0 MB/s\u001b[0m eta \u001b[36m0:00:00\u001b[0m\n",
            "\u001b[?25hCollecting scipy>=0.17.0 (from boruta==0.4.3->deepmol[machine-learning])\n",
            "  Downloading scipy-1.13.1-cp311-cp311-manylinux_2_17_x86_64.manylinux2014_x86_64.whl.metadata (60 kB)\n",
            "\u001b[2K     \u001b[90m━━━━━━━━━━━━━━━━━━━━━━━━━━━━━━━━━━━━━━━━\u001b[0m \u001b[32m60.6/60.6 kB\u001b[0m \u001b[31m1.5 MB/s\u001b[0m eta \u001b[36m0:00:00\u001b[0m\n",
            "\u001b[?25hRequirement already satisfied: smart-open>=1.8.1 in /usr/local/lib/python3.11/dist-packages (from gensim->smilespe==0.0.3->deepmol[machine-learning]) (7.1.0)\n",
            "Requirement already satisfied: sklearn-compat<1,>=0.1 in /usr/local/lib/python3.11/dist-packages (from imbalanced-learn->imblearn->deepmol[machine-learning]) (0.1.3)\n",
            "Requirement already satisfied: wrapt in /usr/local/lib/python3.11/dist-packages (from smart-open>=1.8.1->gensim->smilespe==0.0.3->deepmol[machine-learning]) (1.17.2)\n",
            "Downloading Boruta-0.4.3-py3-none-any.whl (57 kB)\n",
            "\u001b[2K   \u001b[90m━━━━━━━━━━━━━━━━━━━━━━━━━━━━━━━━━━━━━━━━\u001b[0m \u001b[32m57.9/57.9 kB\u001b[0m \u001b[31m1.8 MB/s\u001b[0m eta \u001b[36m0:00:00\u001b[0m\n",
            "\u001b[?25hDownloading cached_property-1.5.2-py2.py3-none-any.whl (7.6 kB)\n",
            "Downloading chembl_structure_pipeline-1.1.0-py3-none-any.whl (15 kB)\n",
            "Downloading dill-0.3.6-py3-none-any.whl (110 kB)\n",
            "\u001b[2K   \u001b[90m━━━━━━━━━━━━━━━━━━━━━━━━━━━━━━━━━━━━━━━━\u001b[0m \u001b[32m110.5/110.5 kB\u001b[0m \u001b[31m4.6 MB/s\u001b[0m eta \u001b[36m0:00:00\u001b[0m\n",
            "\u001b[?25hDownloading kaleido-0.2.1-py2.py3-none-manylinux1_x86_64.whl (79.9 MB)\n",
            "\u001b[2K   \u001b[90m━━━━━━━━━━━━━━━━━━━━━━━━━━━━━━━━━━━━━━━━\u001b[0m \u001b[32m79.9/79.9 MB\u001b[0m \u001b[31m8.3 MB/s\u001b[0m eta \u001b[36m0:00:00\u001b[0m\n",
            "\u001b[?25hDownloading kneed-0.8.2-py3-none-any.whl (10 kB)\n",
            "Downloading optuna-4.1.0-py3-none-any.whl (364 kB)\n",
            "\u001b[2K   \u001b[90m━━━━━━━━━━━━━━━━━━━━━━━━━━━━━━━━━━━━━━━━\u001b[0m \u001b[32m364.4/364.4 kB\u001b[0m \u001b[31m13.8 MB/s\u001b[0m eta \u001b[36m0:00:00\u001b[0m\n",
            "\u001b[?25hDownloading rdkit-2023.9.6-cp311-cp311-manylinux_2_17_x86_64.manylinux2014_x86_64.whl (34.9 MB)\n",
            "\u001b[2K   \u001b[90m━━━━━━━━━━━━━━━━━━━━━━━━━━━━━━━━━━━━━━━━\u001b[0m \u001b[32m34.9/34.9 MB\u001b[0m \u001b[31m10.8 MB/s\u001b[0m eta \u001b[36m0:00:00\u001b[0m\n",
            "\u001b[?25hDownloading scikit_multilearn-0.2.0-py3-none-any.whl (89 kB)\n",
            "\u001b[2K   \u001b[90m━━━━━━━━━━━━━━━━━━━━━━━━━━━━━━━━━━━━━━━━\u001b[0m \u001b[32m89.4/89.4 kB\u001b[0m \u001b[31m2.1 MB/s\u001b[0m eta \u001b[36m0:00:00\u001b[0m\n",
            "\u001b[?25hDownloading shap-0.44.0-cp311-cp311-manylinux_2_12_x86_64.manylinux2010_x86_64.manylinux_2_17_x86_64.manylinux2014_x86_64.whl (533 kB)\n",
            "\u001b[2K   \u001b[90m━━━━━━━━━━━━━━━━━━━━━━━━━━━━━━━━━━━━━━━━\u001b[0m \u001b[32m533.6/533.6 kB\u001b[0m \u001b[31m8.4 MB/s\u001b[0m eta \u001b[36m0:00:00\u001b[0m\n",
            "\u001b[?25hDownloading SmilesPE-0.0.3-py3-none-any.whl (15 kB)\n",
            "Downloading slicer-0.0.7-py3-none-any.whl (14 kB)\n",
            "Downloading pandas-2.0.0-cp311-cp311-manylinux_2_17_x86_64.manylinux2014_x86_64.whl (12.2 MB)\n",
            "\u001b[2K   \u001b[90m━━━━━━━━━━━━━━━━━━━━━━━━━━━━━━━━━━━━━━━━\u001b[0m \u001b[32m12.2/12.2 MB\u001b[0m \u001b[31m23.4 MB/s\u001b[0m eta \u001b[36m0:00:00\u001b[0m\n",
            "\u001b[?25hDownloading scikit_learn-1.5.2-cp311-cp311-manylinux_2_17_x86_64.manylinux2014_x86_64.whl (13.3 MB)\n",
            "\u001b[2K   \u001b[90m━━━━━━━━━━━━━━━━━━━━━━━━━━━━━━━━━━━━━━━━\u001b[0m \u001b[32m13.3/13.3 MB\u001b[0m \u001b[31m38.4 MB/s\u001b[0m eta \u001b[36m0:00:00\u001b[0m\n",
            "\u001b[?25hDownloading deepmol-1.1.13-py3-none-any.whl (90.9 MB)\n",
            "\u001b[2K   \u001b[90m━━━━━━━━━━━━━━━━━━━━━━━━━━━━━━━━━━━━━━━━\u001b[0m \u001b[32m90.9/90.9 MB\u001b[0m \u001b[31m7.5 MB/s\u001b[0m eta \u001b[36m0:00:00\u001b[0m\n",
            "\u001b[?25hDownloading imblearn-0.0-py2.py3-none-any.whl (1.9 kB)\n",
            "Downloading alembic-1.15.2-py3-none-any.whl (231 kB)\n",
            "\u001b[2K   \u001b[90m━━━━━━━━━━━━━━━━━━━━━━━━━━━━━━━━━━━━━━━━\u001b[0m \u001b[32m231.9/231.9 kB\u001b[0m \u001b[31m2.4 MB/s\u001b[0m eta \u001b[36m0:00:00\u001b[0m\n",
            "\u001b[?25hDownloading jedi-0.19.2-py2.py3-none-any.whl (1.6 MB)\n",
            "\u001b[2K   \u001b[90m━━━━━━━━━━━━━━━━━━━━━━━━━━━━━━━━━━━━━━━━\u001b[0m \u001b[32m1.6/1.6 MB\u001b[0m \u001b[31m24.8 MB/s\u001b[0m eta \u001b[36m0:00:00\u001b[0m\n",
            "\u001b[?25hDownloading colorlog-6.9.0-py3-none-any.whl (11 kB)\n",
            "Downloading gensim-4.3.3-cp311-cp311-manylinux_2_17_x86_64.manylinux2014_x86_64.whl (26.7 MB)\n",
            "\u001b[2K   \u001b[90m━━━━━━━━━━━━━━━━━━━━━━━━━━━━━━━━━━━━━━━━\u001b[0m \u001b[32m26.7/26.7 MB\u001b[0m \u001b[31m22.0 MB/s\u001b[0m eta \u001b[36m0:00:00\u001b[0m\n",
            "\u001b[?25hDownloading numpy-1.26.4-cp311-cp311-manylinux_2_17_x86_64.manylinux2014_x86_64.whl (18.3 MB)\n",
            "\u001b[2K   \u001b[90m━━━━━━━━━━━━━━━━━━━━━━━━━━━━━━━━━━━━━━━━\u001b[0m \u001b[32m18.3/18.3 MB\u001b[0m \u001b[31m25.1 MB/s\u001b[0m eta \u001b[36m0:00:00\u001b[0m\n",
            "\u001b[?25hDownloading scipy-1.13.1-cp311-cp311-manylinux_2_17_x86_64.manylinux2014_x86_64.whl (38.6 MB)\n",
            "\u001b[2K   \u001b[90m━━━━━━━━━━━━━━━━━━━━━━━━━━━━━━━━━━━━━━━━\u001b[0m \u001b[32m38.6/38.6 MB\u001b[0m \u001b[31m7.9 MB/s\u001b[0m eta \u001b[36m0:00:00\u001b[0m\n",
            "\u001b[?25hBuilding wheels for collected packages: timeout_decorator, umap-learn\n",
            "  Building wheel for timeout_decorator (setup.py) ... \u001b[?25l\u001b[?25hdone\n",
            "  Created wheel for timeout_decorator: filename=timeout_decorator-0.5.0-py3-none-any.whl size=5007 sha256=1c075e2924e2888a7c33d955a837467ffeaf02f5cf38bc53c09ade3e34173958\n",
            "  Stored in directory: /root/.cache/pip/wheels/aa/cd/d1/51736c6b95846b2613a520ce146a8f305c4016a987bc9faec7\n",
            "  Building wheel for umap-learn (setup.py) ... \u001b[?25l\u001b[?25hdone\n",
            "  Created wheel for umap-learn: filename=umap_learn-0.5.1-py3-none-any.whl size=76545 sha256=940fcc734189667a53dc078caa1bbf198bebfcc6b964ba6970a5b412e02d8ecd\n",
            "  Stored in directory: /root/.cache/pip/wheels/a1/51/6f/9ae7bff782d9f1915c68df9b865c7052109b45afc8065f56d4\n",
            "Successfully built timeout_decorator umap-learn\n",
            "Installing collected packages: timeout_decorator, scikit-multilearn, kaleido, cached_property, slicer, numpy, jedi, dill, colorlog, scipy, rdkit, pandas, alembic, scikit-learn, optuna, kneed, gensim, chembl_structure_pipeline, smilespe, shap, boruta, umap-learn, deepmol, imblearn\n",
            "  Attempting uninstall: slicer\n",
            "    Found existing installation: slicer 0.0.8\n",
            "    Uninstalling slicer-0.0.8:\n",
            "      Successfully uninstalled slicer-0.0.8\n",
            "  Attempting uninstall: numpy\n",
            "    Found existing installation: numpy 2.0.2\n",
            "    Uninstalling numpy-2.0.2:\n",
            "      Successfully uninstalled numpy-2.0.2\n",
            "  Attempting uninstall: scipy\n",
            "    Found existing installation: scipy 1.14.1\n",
            "    Uninstalling scipy-1.14.1:\n",
            "      Successfully uninstalled scipy-1.14.1\n",
            "  Attempting uninstall: pandas\n",
            "    Found existing installation: pandas 2.2.2\n",
            "    Uninstalling pandas-2.2.2:\n",
            "      Successfully uninstalled pandas-2.2.2\n",
            "  Attempting uninstall: scikit-learn\n",
            "    Found existing installation: scikit-learn 1.6.1\n",
            "    Uninstalling scikit-learn-1.6.1:\n",
            "      Successfully uninstalled scikit-learn-1.6.1\n",
            "  Attempting uninstall: shap\n",
            "    Found existing installation: shap 0.47.0\n",
            "    Uninstalling shap-0.47.0:\n",
            "      Successfully uninstalled shap-0.47.0\n",
            "  Attempting uninstall: umap-learn\n",
            "    Found existing installation: umap-learn 0.5.7\n",
            "    Uninstalling umap-learn-0.5.7:\n",
            "      Successfully uninstalled umap-learn-0.5.7\n",
            "\u001b[31mERROR: pip's dependency resolver does not currently take into account all the packages that are installed. This behaviour is the source of the following dependency conflicts.\n",
            "google-colab 1.0.0 requires pandas==2.2.2, but you have pandas 2.0.0 which is incompatible.\n",
            "plotnine 0.14.5 requires pandas>=2.2.0, but you have pandas 2.0.0 which is incompatible.\n",
            "mizani 0.13.1 requires pandas>=2.2.0, but you have pandas 2.0.0 which is incompatible.\n",
            "xarray 2025.1.2 requires pandas>=2.1, but you have pandas 2.0.0 which is incompatible.\u001b[0m\u001b[31m\n",
            "\u001b[0mSuccessfully installed alembic-1.15.2 boruta-0.4.3 cached_property-1.5.2 chembl_structure_pipeline-1.1.0 colorlog-6.9.0 deepmol-1.1.13 dill-0.3.6 gensim-4.3.3 imblearn-0.0 jedi-0.19.2 kaleido-0.2.1 kneed-0.8.2 numpy-1.26.4 optuna-4.1.0 pandas-2.0.0 rdkit-2023.9.6 scikit-learn-1.5.2 scikit-multilearn-0.2.0 scipy-1.13.1 shap-0.44.0 slicer-0.0.7 smilespe-0.0.3 timeout_decorator-0.5.0 umap-learn-0.5.1\n"
          ]
        }
      ]
    },
    {
      "cell_type": "markdown",
      "source": [
        "Restart session and do not run the previous cell again"
      ],
      "metadata": {
        "id": "qfBDQ8VJBN3k"
      }
    },
    {
      "cell_type": "code",
      "source": [
        "!wget -O bioavailability.csv --no-check-certificate \"https://docs.google.com/uc?export=download&id=1iyxYyOl-tg0i62mHiS3cpsSwbeU86BBl\""
      ],
      "metadata": {
        "colab": {
          "base_uri": "https://localhost:8080/"
        },
        "id": "_-BOucTynUBR",
        "outputId": "c8ea8b57-0c36-435b-e4b2-463092bcbdc7"
      },
      "execution_count": null,
      "outputs": [
        {
          "output_type": "stream",
          "name": "stdout",
          "text": [
            "--2025-03-30 12:27:13--  https://docs.google.com/uc?export=download&id=1iyxYyOl-tg0i62mHiS3cpsSwbeU86BBl\n",
            "Resolving docs.google.com (docs.google.com)... 173.194.210.113, 173.194.210.139, 173.194.210.100, ...\n",
            "Connecting to docs.google.com (docs.google.com)|173.194.210.113|:443... connected.\n",
            "HTTP request sent, awaiting response... 303 See Other\n",
            "Location: https://drive.usercontent.google.com/download?id=1iyxYyOl-tg0i62mHiS3cpsSwbeU86BBl&export=download [following]\n",
            "--2025-03-30 12:27:13--  https://drive.usercontent.google.com/download?id=1iyxYyOl-tg0i62mHiS3cpsSwbeU86BBl&export=download\n",
            "Resolving drive.usercontent.google.com (drive.usercontent.google.com)... 74.125.141.132, 2607:f8b0:400c:c06::84\n",
            "Connecting to drive.usercontent.google.com (drive.usercontent.google.com)|74.125.141.132|:443... connected.\n",
            "HTTP request sent, awaiting response... 200 OK\n",
            "Length: 41096 (40K) [application/octet-stream]\n",
            "Saving to: ‘bioavailability.csv’\n",
            "\n",
            "bioavailability.csv 100%[===================>]  40.13K  --.-KB/s    in 0s      \n",
            "\n",
            "2025-03-30 12:27:16 (92.6 MB/s) - ‘bioavailability.csv’ saved [41096/41096]\n",
            "\n"
          ]
        }
      ]
    },
    {
      "cell_type": "code",
      "source": [
        "import pandas as pd\n",
        "\n",
        "pd.read_csv(\"bioavailability.csv\")"
      ],
      "metadata": {
        "colab": {
          "base_uri": "https://localhost:8080/",
          "height": 423
        },
        "id": "pLyvnZFw3-ho",
        "outputId": "140275d0-1dcb-4b9d-c9a2-f1cc99449a01"
      },
      "execution_count": null,
      "outputs": [
        {
          "output_type": "execute_result",
          "data": {
            "text/plain": [
              "              Drug_ID                                               Drug  Y\n",
              "0         Dimercaprol                                           OCC(S)CS  0\n",
              "1         Edrophonium                            CC[N+](C)(C)c1cccc(O)c1  0\n",
              "2         Carbimazole                               CCOC(=O)n1ccn(C)c1=S  0\n",
              "3          Vidarabine   Nc1ncnc2c1ncn2[C@@H]1O[C@H](CO)[C@@H](O)[C@@H]1O  0\n",
              "4         Cefacetrile  CC(=O)OCC1=C(C(=O)O)N2C(=O)[C@@H](NC(=O)CC#N)[...  0\n",
              "..                ...                                                ... ..\n",
              "635  Cyclopenthiazide       NS(=O)(=O)c1cc2c(cc1Cl)NC(CC1CCCC1)NS2(=O)=O  1\n",
              "636    Sulfinpyrazone   O=C1C(CCS(=O)c2ccccc2)C(=O)N(c2ccccc2)N1c1ccccc1  1\n",
              "637        Toremifene    CN(C)CCOc1ccc(/C(=C(/CCCl)c2ccccc2)c2ccccc2)cc1  1\n",
              "638        Tamsulosin   CCOc1ccccc1OCCN[C@H](C)Cc1ccc(OC)c(S(N)(=O)=O)c1  1\n",
              "639       Glimepiride  CCC1=C(C)CN(C(=O)NCCc2ccc(S(=O)(=O)NC(=O)N[C@H...  1\n",
              "\n",
              "[640 rows x 3 columns]"
            ],
            "text/html": [
              "\n",
              "  <div id=\"df-a3102a30-80b4-4177-b7b3-5b6782998ac4\" class=\"colab-df-container\">\n",
              "    <div>\n",
              "<style scoped>\n",
              "    .dataframe tbody tr th:only-of-type {\n",
              "        vertical-align: middle;\n",
              "    }\n",
              "\n",
              "    .dataframe tbody tr th {\n",
              "        vertical-align: top;\n",
              "    }\n",
              "\n",
              "    .dataframe thead th {\n",
              "        text-align: right;\n",
              "    }\n",
              "</style>\n",
              "<table border=\"1\" class=\"dataframe\">\n",
              "  <thead>\n",
              "    <tr style=\"text-align: right;\">\n",
              "      <th></th>\n",
              "      <th>Drug_ID</th>\n",
              "      <th>Drug</th>\n",
              "      <th>Y</th>\n",
              "    </tr>\n",
              "  </thead>\n",
              "  <tbody>\n",
              "    <tr>\n",
              "      <th>0</th>\n",
              "      <td>Dimercaprol</td>\n",
              "      <td>OCC(S)CS</td>\n",
              "      <td>0</td>\n",
              "    </tr>\n",
              "    <tr>\n",
              "      <th>1</th>\n",
              "      <td>Edrophonium</td>\n",
              "      <td>CC[N+](C)(C)c1cccc(O)c1</td>\n",
              "      <td>0</td>\n",
              "    </tr>\n",
              "    <tr>\n",
              "      <th>2</th>\n",
              "      <td>Carbimazole</td>\n",
              "      <td>CCOC(=O)n1ccn(C)c1=S</td>\n",
              "      <td>0</td>\n",
              "    </tr>\n",
              "    <tr>\n",
              "      <th>3</th>\n",
              "      <td>Vidarabine</td>\n",
              "      <td>Nc1ncnc2c1ncn2[C@@H]1O[C@H](CO)[C@@H](O)[C@@H]1O</td>\n",
              "      <td>0</td>\n",
              "    </tr>\n",
              "    <tr>\n",
              "      <th>4</th>\n",
              "      <td>Cefacetrile</td>\n",
              "      <td>CC(=O)OCC1=C(C(=O)O)N2C(=O)[C@@H](NC(=O)CC#N)[...</td>\n",
              "      <td>0</td>\n",
              "    </tr>\n",
              "    <tr>\n",
              "      <th>...</th>\n",
              "      <td>...</td>\n",
              "      <td>...</td>\n",
              "      <td>...</td>\n",
              "    </tr>\n",
              "    <tr>\n",
              "      <th>635</th>\n",
              "      <td>Cyclopenthiazide</td>\n",
              "      <td>NS(=O)(=O)c1cc2c(cc1Cl)NC(CC1CCCC1)NS2(=O)=O</td>\n",
              "      <td>1</td>\n",
              "    </tr>\n",
              "    <tr>\n",
              "      <th>636</th>\n",
              "      <td>Sulfinpyrazone</td>\n",
              "      <td>O=C1C(CCS(=O)c2ccccc2)C(=O)N(c2ccccc2)N1c1ccccc1</td>\n",
              "      <td>1</td>\n",
              "    </tr>\n",
              "    <tr>\n",
              "      <th>637</th>\n",
              "      <td>Toremifene</td>\n",
              "      <td>CN(C)CCOc1ccc(/C(=C(/CCCl)c2ccccc2)c2ccccc2)cc1</td>\n",
              "      <td>1</td>\n",
              "    </tr>\n",
              "    <tr>\n",
              "      <th>638</th>\n",
              "      <td>Tamsulosin</td>\n",
              "      <td>CCOc1ccccc1OCCN[C@H](C)Cc1ccc(OC)c(S(N)(=O)=O)c1</td>\n",
              "      <td>1</td>\n",
              "    </tr>\n",
              "    <tr>\n",
              "      <th>639</th>\n",
              "      <td>Glimepiride</td>\n",
              "      <td>CCC1=C(C)CN(C(=O)NCCc2ccc(S(=O)(=O)NC(=O)N[C@H...</td>\n",
              "      <td>1</td>\n",
              "    </tr>\n",
              "  </tbody>\n",
              "</table>\n",
              "<p>640 rows × 3 columns</p>\n",
              "</div>\n",
              "    <div class=\"colab-df-buttons\">\n",
              "\n",
              "  <div class=\"colab-df-container\">\n",
              "    <button class=\"colab-df-convert\" onclick=\"convertToInteractive('df-a3102a30-80b4-4177-b7b3-5b6782998ac4')\"\n",
              "            title=\"Convert this dataframe to an interactive table.\"\n",
              "            style=\"display:none;\">\n",
              "\n",
              "  <svg xmlns=\"http://www.w3.org/2000/svg\" height=\"24px\" viewBox=\"0 -960 960 960\">\n",
              "    <path d=\"M120-120v-720h720v720H120Zm60-500h600v-160H180v160Zm220 220h160v-160H400v160Zm0 220h160v-160H400v160ZM180-400h160v-160H180v160Zm440 0h160v-160H620v160ZM180-180h160v-160H180v160Zm440 0h160v-160H620v160Z\"/>\n",
              "  </svg>\n",
              "    </button>\n",
              "\n",
              "  <style>\n",
              "    .colab-df-container {\n",
              "      display:flex;\n",
              "      gap: 12px;\n",
              "    }\n",
              "\n",
              "    .colab-df-convert {\n",
              "      background-color: #E8F0FE;\n",
              "      border: none;\n",
              "      border-radius: 50%;\n",
              "      cursor: pointer;\n",
              "      display: none;\n",
              "      fill: #1967D2;\n",
              "      height: 32px;\n",
              "      padding: 0 0 0 0;\n",
              "      width: 32px;\n",
              "    }\n",
              "\n",
              "    .colab-df-convert:hover {\n",
              "      background-color: #E2EBFA;\n",
              "      box-shadow: 0px 1px 2px rgba(60, 64, 67, 0.3), 0px 1px 3px 1px rgba(60, 64, 67, 0.15);\n",
              "      fill: #174EA6;\n",
              "    }\n",
              "\n",
              "    .colab-df-buttons div {\n",
              "      margin-bottom: 4px;\n",
              "    }\n",
              "\n",
              "    [theme=dark] .colab-df-convert {\n",
              "      background-color: #3B4455;\n",
              "      fill: #D2E3FC;\n",
              "    }\n",
              "\n",
              "    [theme=dark] .colab-df-convert:hover {\n",
              "      background-color: #434B5C;\n",
              "      box-shadow: 0px 1px 3px 1px rgba(0, 0, 0, 0.15);\n",
              "      filter: drop-shadow(0px 1px 2px rgba(0, 0, 0, 0.3));\n",
              "      fill: #FFFFFF;\n",
              "    }\n",
              "  </style>\n",
              "\n",
              "    <script>\n",
              "      const buttonEl =\n",
              "        document.querySelector('#df-a3102a30-80b4-4177-b7b3-5b6782998ac4 button.colab-df-convert');\n",
              "      buttonEl.style.display =\n",
              "        google.colab.kernel.accessAllowed ? 'block' : 'none';\n",
              "\n",
              "      async function convertToInteractive(key) {\n",
              "        const element = document.querySelector('#df-a3102a30-80b4-4177-b7b3-5b6782998ac4');\n",
              "        const dataTable =\n",
              "          await google.colab.kernel.invokeFunction('convertToInteractive',\n",
              "                                                    [key], {});\n",
              "        if (!dataTable) return;\n",
              "\n",
              "        const docLinkHtml = 'Like what you see? Visit the ' +\n",
              "          '<a target=\"_blank\" href=https://colab.research.google.com/notebooks/data_table.ipynb>data table notebook</a>'\n",
              "          + ' to learn more about interactive tables.';\n",
              "        element.innerHTML = '';\n",
              "        dataTable['output_type'] = 'display_data';\n",
              "        await google.colab.output.renderOutput(dataTable, element);\n",
              "        const docLink = document.createElement('div');\n",
              "        docLink.innerHTML = docLinkHtml;\n",
              "        element.appendChild(docLink);\n",
              "      }\n",
              "    </script>\n",
              "  </div>\n",
              "\n",
              "\n",
              "<div id=\"df-ffbc77bb-6315-489f-a817-569c8569bbd5\">\n",
              "  <button class=\"colab-df-quickchart\" onclick=\"quickchart('df-ffbc77bb-6315-489f-a817-569c8569bbd5')\"\n",
              "            title=\"Suggest charts\"\n",
              "            style=\"display:none;\">\n",
              "\n",
              "<svg xmlns=\"http://www.w3.org/2000/svg\" height=\"24px\"viewBox=\"0 0 24 24\"\n",
              "     width=\"24px\">\n",
              "    <g>\n",
              "        <path d=\"M19 3H5c-1.1 0-2 .9-2 2v14c0 1.1.9 2 2 2h14c1.1 0 2-.9 2-2V5c0-1.1-.9-2-2-2zM9 17H7v-7h2v7zm4 0h-2V7h2v10zm4 0h-2v-4h2v4z\"/>\n",
              "    </g>\n",
              "</svg>\n",
              "  </button>\n",
              "\n",
              "<style>\n",
              "  .colab-df-quickchart {\n",
              "      --bg-color: #E8F0FE;\n",
              "      --fill-color: #1967D2;\n",
              "      --hover-bg-color: #E2EBFA;\n",
              "      --hover-fill-color: #174EA6;\n",
              "      --disabled-fill-color: #AAA;\n",
              "      --disabled-bg-color: #DDD;\n",
              "  }\n",
              "\n",
              "  [theme=dark] .colab-df-quickchart {\n",
              "      --bg-color: #3B4455;\n",
              "      --fill-color: #D2E3FC;\n",
              "      --hover-bg-color: #434B5C;\n",
              "      --hover-fill-color: #FFFFFF;\n",
              "      --disabled-bg-color: #3B4455;\n",
              "      --disabled-fill-color: #666;\n",
              "  }\n",
              "\n",
              "  .colab-df-quickchart {\n",
              "    background-color: var(--bg-color);\n",
              "    border: none;\n",
              "    border-radius: 50%;\n",
              "    cursor: pointer;\n",
              "    display: none;\n",
              "    fill: var(--fill-color);\n",
              "    height: 32px;\n",
              "    padding: 0;\n",
              "    width: 32px;\n",
              "  }\n",
              "\n",
              "  .colab-df-quickchart:hover {\n",
              "    background-color: var(--hover-bg-color);\n",
              "    box-shadow: 0 1px 2px rgba(60, 64, 67, 0.3), 0 1px 3px 1px rgba(60, 64, 67, 0.15);\n",
              "    fill: var(--button-hover-fill-color);\n",
              "  }\n",
              "\n",
              "  .colab-df-quickchart-complete:disabled,\n",
              "  .colab-df-quickchart-complete:disabled:hover {\n",
              "    background-color: var(--disabled-bg-color);\n",
              "    fill: var(--disabled-fill-color);\n",
              "    box-shadow: none;\n",
              "  }\n",
              "\n",
              "  .colab-df-spinner {\n",
              "    border: 2px solid var(--fill-color);\n",
              "    border-color: transparent;\n",
              "    border-bottom-color: var(--fill-color);\n",
              "    animation:\n",
              "      spin 1s steps(1) infinite;\n",
              "  }\n",
              "\n",
              "  @keyframes spin {\n",
              "    0% {\n",
              "      border-color: transparent;\n",
              "      border-bottom-color: var(--fill-color);\n",
              "      border-left-color: var(--fill-color);\n",
              "    }\n",
              "    20% {\n",
              "      border-color: transparent;\n",
              "      border-left-color: var(--fill-color);\n",
              "      border-top-color: var(--fill-color);\n",
              "    }\n",
              "    30% {\n",
              "      border-color: transparent;\n",
              "      border-left-color: var(--fill-color);\n",
              "      border-top-color: var(--fill-color);\n",
              "      border-right-color: var(--fill-color);\n",
              "    }\n",
              "    40% {\n",
              "      border-color: transparent;\n",
              "      border-right-color: var(--fill-color);\n",
              "      border-top-color: var(--fill-color);\n",
              "    }\n",
              "    60% {\n",
              "      border-color: transparent;\n",
              "      border-right-color: var(--fill-color);\n",
              "    }\n",
              "    80% {\n",
              "      border-color: transparent;\n",
              "      border-right-color: var(--fill-color);\n",
              "      border-bottom-color: var(--fill-color);\n",
              "    }\n",
              "    90% {\n",
              "      border-color: transparent;\n",
              "      border-bottom-color: var(--fill-color);\n",
              "    }\n",
              "  }\n",
              "</style>\n",
              "\n",
              "  <script>\n",
              "    async function quickchart(key) {\n",
              "      const quickchartButtonEl =\n",
              "        document.querySelector('#' + key + ' button');\n",
              "      quickchartButtonEl.disabled = true;  // To prevent multiple clicks.\n",
              "      quickchartButtonEl.classList.add('colab-df-spinner');\n",
              "      try {\n",
              "        const charts = await google.colab.kernel.invokeFunction(\n",
              "            'suggestCharts', [key], {});\n",
              "      } catch (error) {\n",
              "        console.error('Error during call to suggestCharts:', error);\n",
              "      }\n",
              "      quickchartButtonEl.classList.remove('colab-df-spinner');\n",
              "      quickchartButtonEl.classList.add('colab-df-quickchart-complete');\n",
              "    }\n",
              "    (() => {\n",
              "      let quickchartButtonEl =\n",
              "        document.querySelector('#df-ffbc77bb-6315-489f-a817-569c8569bbd5 button');\n",
              "      quickchartButtonEl.style.display =\n",
              "        google.colab.kernel.accessAllowed ? 'block' : 'none';\n",
              "    })();\n",
              "  </script>\n",
              "</div>\n",
              "\n",
              "    </div>\n",
              "  </div>\n"
            ],
            "application/vnd.google.colaboratory.intrinsic+json": {
              "type": "dataframe",
              "summary": "{\n  \"name\": \"pd\",\n  \"rows\": 640,\n  \"fields\": [\n    {\n      \"column\": \"Drug_ID\",\n      \"properties\": {\n        \"dtype\": \"string\",\n        \"num_unique_values\": 640,\n        \"samples\": [\n          \"Sulfamethoxazole\",\n          \"Nifedipine\",\n          \"Clomipramine\"\n        ],\n        \"semantic_type\": \"\",\n        \"description\": \"\"\n      }\n    },\n    {\n      \"column\": \"Drug\",\n      \"properties\": {\n        \"dtype\": \"string\",\n        \"num_unique_values\": 640,\n        \"samples\": [\n          \"Cc1cc(NS(=O)(=O)c2ccc(N)cc2)no1\",\n          \"COC(=O)C1=C(C)NC(C)=C(C(=O)OC)C1c1ccccc1[N+](=O)[O-]\",\n          \"CN(C)CCCN1c2ccccc2CCc2ccc(Cl)cc21\"\n        ],\n        \"semantic_type\": \"\",\n        \"description\": \"\"\n      }\n    },\n    {\n      \"column\": \"Y\",\n      \"properties\": {\n        \"dtype\": \"number\",\n        \"std\": 0,\n        \"min\": 0,\n        \"max\": 1,\n        \"num_unique_values\": 2,\n        \"samples\": [\n          1,\n          0\n        ],\n        \"semantic_type\": \"\",\n        \"description\": \"\"\n      }\n    }\n  ]\n}"
            }
          },
          "metadata": {},
          "execution_count": 3
        }
      ]
    },
    {
      "cell_type": "markdown",
      "source": [
        "# Pre-process the Raw Data"
      ],
      "metadata": {
        "id": "03_sWgQ3BU7m"
      }
    },
    {
      "cell_type": "markdown",
      "source": [
        "Read the data with pandas and check how many rows (datapoints) the dataset has"
      ],
      "metadata": {
        "id": "d9PAgFIeBY7H"
      }
    },
    {
      "cell_type": "code",
      "source": [
        "# prompt: Read the data with pandas and check how many rows (datapoints) the dataset has\n",
        "\n",
        "import pandas as pd\n",
        "df = pd.read_csv(\"bioavailability.csv\")\n",
        "print(len(df))\n"
      ],
      "metadata": {
        "id": "U-Z7fSbQBUW-",
        "colab": {
          "base_uri": "https://localhost:8080/"
        },
        "outputId": "9f28642f-1ebe-4eb9-f29a-dc38801f4aa3"
      },
      "execution_count": null,
      "outputs": [
        {
          "output_type": "stream",
          "name": "stdout",
          "text": [
            "640\n"
          ]
        }
      ]
    },
    {
      "cell_type": "markdown",
      "source": [
        "Check how many bioavailable molecules you have in the dataset"
      ],
      "metadata": {
        "id": "Znm6xfJ4B3tg"
      }
    },
    {
      "cell_type": "code",
      "source": [
        "# prompt: Can you check how many bioavailable molecules there are in the dataset? They are the ones with 1 in the Y column\n",
        "\n",
        "bioavailable_count = len(df[df['Y'] == 1])\n",
        "print(f\"Number of bioavailable molecules: {bioavailable_count}\")\n"
      ],
      "metadata": {
        "id": "toInDdZfCTLc",
        "colab": {
          "base_uri": "https://localhost:8080/"
        },
        "outputId": "20d592de-0428-45c7-a674-1c196ed32726"
      },
      "execution_count": null,
      "outputs": [
        {
          "output_type": "stream",
          "name": "stdout",
          "text": [
            "Number of bioavailable molecules: 492\n"
          ]
        }
      ]
    },
    {
      "cell_type": "markdown",
      "source": [
        "Remove all the invalid molecules (molecules than cannot be read by rdkit) and drop them"
      ],
      "metadata": {
        "id": "x2iw3RdNsgYJ"
      }
    },
    {
      "cell_type": "code",
      "source": [
        "# prompt: Remove all the invalid molecules (molecules than cannot be read by rdkit) and drop them\n",
        "\n",
        "from rdkit import Chem\n",
        "\n",
        "# ... (previous code)\n",
        "\n",
        "def is_valid_mol(smiles):\n",
        "    mol = Chem.MolFromSmiles(smiles)\n",
        "    return mol is not None\n",
        "\n",
        "df = df[df['Drug'].apply(is_valid_mol)]\n",
        "print(len(df))\n",
        "\n",
        "bioavailable_count = len(df[df['Y'] == 1])\n",
        "print(f\"Number of bioavailable molecules: {bioavailable_count}\")\n"
      ],
      "metadata": {
        "id": "JaovrC1LspT4",
        "colab": {
          "base_uri": "https://localhost:8080/"
        },
        "outputId": "7cd061af-f0a6-451c-b77f-1609fc138fcb"
      },
      "execution_count": null,
      "outputs": [
        {
          "output_type": "stream",
          "name": "stdout",
          "text": [
            "640\n",
            "Number of bioavailable molecules: 492\n"
          ]
        }
      ]
    },
    {
      "cell_type": "markdown",
      "source": [
        "# Split the data"
      ],
      "metadata": {
        "id": "XWyjc8HCDQtn"
      }
    },
    {
      "cell_type": "markdown",
      "source": [
        "Use sklearn to obtain a stratified split of the data, generating one train, validation and test sets with ratios of 5:2:3"
      ],
      "metadata": {
        "id": "YXo3avNpEdvL"
      }
    },
    {
      "cell_type": "code",
      "source": [
        "# prompt: Use sklearn to obtain a stratified split of the data, generating one train, validation and test sets with ratios of 5:2:3\n",
        "\n",
        "from sklearn.model_selection import train_test_split\n",
        "\n",
        "# Assuming 'df' is your DataFrame and 'Y' is your target column\n",
        "train_df, temp_df = train_test_split(df, test_size=0.5, stratify=df['Y'], random_state=42)\n",
        "val_df, test_df = train_test_split(temp_df, test_size=0.6, stratify=temp_df['Y'], random_state=42) # 0.6 of 0.5 is 0.3, so test is 30%\n",
        "\n",
        "print(f\"Train size: {len(train_df)}\")\n",
        "print(f\"Validation size: {len(val_df)}\")\n",
        "print(f\"Test size: {len(test_df)}\")\n"
      ],
      "metadata": {
        "id": "tyCHg7YappHU",
        "colab": {
          "base_uri": "https://localhost:8080/"
        },
        "outputId": "5f04e736-c940-47a7-cad0-917c730f1a30"
      },
      "execution_count": null,
      "outputs": [
        {
          "output_type": "stream",
          "name": "stdout",
          "text": [
            "Train size: 320\n",
            "Validation size: 128\n",
            "Test size: 192\n"
          ]
        }
      ]
    },
    {
      "cell_type": "code",
      "source": [
        "train_df"
      ],
      "metadata": {
        "colab": {
          "base_uri": "https://localhost:8080/",
          "height": 423
        },
        "id": "KRBqgFXkmpHx",
        "outputId": "0fc47499-9c47-41b2-c464-17d226b577f5"
      },
      "execution_count": null,
      "outputs": [
        {
          "output_type": "execute_result",
          "data": {
            "text/plain": [
              "                Drug_ID                                               Drug  Y\n",
              "437  Methylprednisolone  C[C@H]1C[C@H]2[C@@H]3CC[C@](O)(C(=O)CO)[C@@]3(...  1\n",
              "610         Naratriptan         CNS(=O)(=O)CCc1ccc2[nH]cc(C3CCN(C)CC3)c2c1  1\n",
              "337          Ampicillin  CC1(C)S[C@@H]2[C@H](NC(=O)[C@H](N)c3ccccc3)C(=...  1\n",
              "408           Zopiclone     CN1CCN(C(=O)OC2c3nccnc3C(=O)N2c2ccc(Cl)cn2)CC1  1\n",
              "331            Bepridil            CC(C)COCC(CN(Cc1ccccc1)c1ccccc1)N1CCCC1  1\n",
              "..                  ...                                                ... ..\n",
              "268       Penicillamine                            CC(C)(S)[C@@H](N)C(=O)O  1\n",
              "397            Urapidil       COc1ccccc1N1CCN(CCCNc2cc(=O)n(C)c(=O)n2C)CC1  1\n",
              "142          Tacrolimus  C=CC[C@@H]1/C=C(\\C)C[C@H](C)C[C@H](OC)[C@H]2O[...  1\n",
              "328         Ziprasidone     O=C1Cc2cc(CCN3CCN(c4nsc5ccccc45)CC3)c(Cl)cc2N1  1\n",
              "435          Oxyfedrine      COc1cccc(C(=O)CCN[C@@H](C)[C@H](O)c2ccccc2)c1  1\n",
              "\n",
              "[320 rows x 3 columns]"
            ],
            "text/html": [
              "\n",
              "  <div id=\"df-4fb2dbcc-ff7e-4f9a-b460-ce0b656aaebe\" class=\"colab-df-container\">\n",
              "    <div>\n",
              "<style scoped>\n",
              "    .dataframe tbody tr th:only-of-type {\n",
              "        vertical-align: middle;\n",
              "    }\n",
              "\n",
              "    .dataframe tbody tr th {\n",
              "        vertical-align: top;\n",
              "    }\n",
              "\n",
              "    .dataframe thead th {\n",
              "        text-align: right;\n",
              "    }\n",
              "</style>\n",
              "<table border=\"1\" class=\"dataframe\">\n",
              "  <thead>\n",
              "    <tr style=\"text-align: right;\">\n",
              "      <th></th>\n",
              "      <th>Drug_ID</th>\n",
              "      <th>Drug</th>\n",
              "      <th>Y</th>\n",
              "    </tr>\n",
              "  </thead>\n",
              "  <tbody>\n",
              "    <tr>\n",
              "      <th>437</th>\n",
              "      <td>Methylprednisolone</td>\n",
              "      <td>C[C@H]1C[C@H]2[C@@H]3CC[C@](O)(C(=O)CO)[C@@]3(...</td>\n",
              "      <td>1</td>\n",
              "    </tr>\n",
              "    <tr>\n",
              "      <th>610</th>\n",
              "      <td>Naratriptan</td>\n",
              "      <td>CNS(=O)(=O)CCc1ccc2[nH]cc(C3CCN(C)CC3)c2c1</td>\n",
              "      <td>1</td>\n",
              "    </tr>\n",
              "    <tr>\n",
              "      <th>337</th>\n",
              "      <td>Ampicillin</td>\n",
              "      <td>CC1(C)S[C@@H]2[C@H](NC(=O)[C@H](N)c3ccccc3)C(=...</td>\n",
              "      <td>1</td>\n",
              "    </tr>\n",
              "    <tr>\n",
              "      <th>408</th>\n",
              "      <td>Zopiclone</td>\n",
              "      <td>CN1CCN(C(=O)OC2c3nccnc3C(=O)N2c2ccc(Cl)cn2)CC1</td>\n",
              "      <td>1</td>\n",
              "    </tr>\n",
              "    <tr>\n",
              "      <th>331</th>\n",
              "      <td>Bepridil</td>\n",
              "      <td>CC(C)COCC(CN(Cc1ccccc1)c1ccccc1)N1CCCC1</td>\n",
              "      <td>1</td>\n",
              "    </tr>\n",
              "    <tr>\n",
              "      <th>...</th>\n",
              "      <td>...</td>\n",
              "      <td>...</td>\n",
              "      <td>...</td>\n",
              "    </tr>\n",
              "    <tr>\n",
              "      <th>268</th>\n",
              "      <td>Penicillamine</td>\n",
              "      <td>CC(C)(S)[C@@H](N)C(=O)O</td>\n",
              "      <td>1</td>\n",
              "    </tr>\n",
              "    <tr>\n",
              "      <th>397</th>\n",
              "      <td>Urapidil</td>\n",
              "      <td>COc1ccccc1N1CCN(CCCNc2cc(=O)n(C)c(=O)n2C)CC1</td>\n",
              "      <td>1</td>\n",
              "    </tr>\n",
              "    <tr>\n",
              "      <th>142</th>\n",
              "      <td>Tacrolimus</td>\n",
              "      <td>C=CC[C@@H]1/C=C(\\C)C[C@H](C)C[C@H](OC)[C@H]2O[...</td>\n",
              "      <td>1</td>\n",
              "    </tr>\n",
              "    <tr>\n",
              "      <th>328</th>\n",
              "      <td>Ziprasidone</td>\n",
              "      <td>O=C1Cc2cc(CCN3CCN(c4nsc5ccccc45)CC3)c(Cl)cc2N1</td>\n",
              "      <td>1</td>\n",
              "    </tr>\n",
              "    <tr>\n",
              "      <th>435</th>\n",
              "      <td>Oxyfedrine</td>\n",
              "      <td>COc1cccc(C(=O)CCN[C@@H](C)[C@H](O)c2ccccc2)c1</td>\n",
              "      <td>1</td>\n",
              "    </tr>\n",
              "  </tbody>\n",
              "</table>\n",
              "<p>320 rows × 3 columns</p>\n",
              "</div>\n",
              "    <div class=\"colab-df-buttons\">\n",
              "\n",
              "  <div class=\"colab-df-container\">\n",
              "    <button class=\"colab-df-convert\" onclick=\"convertToInteractive('df-4fb2dbcc-ff7e-4f9a-b460-ce0b656aaebe')\"\n",
              "            title=\"Convert this dataframe to an interactive table.\"\n",
              "            style=\"display:none;\">\n",
              "\n",
              "  <svg xmlns=\"http://www.w3.org/2000/svg\" height=\"24px\" viewBox=\"0 -960 960 960\">\n",
              "    <path d=\"M120-120v-720h720v720H120Zm60-500h600v-160H180v160Zm220 220h160v-160H400v160Zm0 220h160v-160H400v160ZM180-400h160v-160H180v160Zm440 0h160v-160H620v160ZM180-180h160v-160H180v160Zm440 0h160v-160H620v160Z\"/>\n",
              "  </svg>\n",
              "    </button>\n",
              "\n",
              "  <style>\n",
              "    .colab-df-container {\n",
              "      display:flex;\n",
              "      gap: 12px;\n",
              "    }\n",
              "\n",
              "    .colab-df-convert {\n",
              "      background-color: #E8F0FE;\n",
              "      border: none;\n",
              "      border-radius: 50%;\n",
              "      cursor: pointer;\n",
              "      display: none;\n",
              "      fill: #1967D2;\n",
              "      height: 32px;\n",
              "      padding: 0 0 0 0;\n",
              "      width: 32px;\n",
              "    }\n",
              "\n",
              "    .colab-df-convert:hover {\n",
              "      background-color: #E2EBFA;\n",
              "      box-shadow: 0px 1px 2px rgba(60, 64, 67, 0.3), 0px 1px 3px 1px rgba(60, 64, 67, 0.15);\n",
              "      fill: #174EA6;\n",
              "    }\n",
              "\n",
              "    .colab-df-buttons div {\n",
              "      margin-bottom: 4px;\n",
              "    }\n",
              "\n",
              "    [theme=dark] .colab-df-convert {\n",
              "      background-color: #3B4455;\n",
              "      fill: #D2E3FC;\n",
              "    }\n",
              "\n",
              "    [theme=dark] .colab-df-convert:hover {\n",
              "      background-color: #434B5C;\n",
              "      box-shadow: 0px 1px 3px 1px rgba(0, 0, 0, 0.15);\n",
              "      filter: drop-shadow(0px 1px 2px rgba(0, 0, 0, 0.3));\n",
              "      fill: #FFFFFF;\n",
              "    }\n",
              "  </style>\n",
              "\n",
              "    <script>\n",
              "      const buttonEl =\n",
              "        document.querySelector('#df-4fb2dbcc-ff7e-4f9a-b460-ce0b656aaebe button.colab-df-convert');\n",
              "      buttonEl.style.display =\n",
              "        google.colab.kernel.accessAllowed ? 'block' : 'none';\n",
              "\n",
              "      async function convertToInteractive(key) {\n",
              "        const element = document.querySelector('#df-4fb2dbcc-ff7e-4f9a-b460-ce0b656aaebe');\n",
              "        const dataTable =\n",
              "          await google.colab.kernel.invokeFunction('convertToInteractive',\n",
              "                                                    [key], {});\n",
              "        if (!dataTable) return;\n",
              "\n",
              "        const docLinkHtml = 'Like what you see? Visit the ' +\n",
              "          '<a target=\"_blank\" href=https://colab.research.google.com/notebooks/data_table.ipynb>data table notebook</a>'\n",
              "          + ' to learn more about interactive tables.';\n",
              "        element.innerHTML = '';\n",
              "        dataTable['output_type'] = 'display_data';\n",
              "        await google.colab.output.renderOutput(dataTable, element);\n",
              "        const docLink = document.createElement('div');\n",
              "        docLink.innerHTML = docLinkHtml;\n",
              "        element.appendChild(docLink);\n",
              "      }\n",
              "    </script>\n",
              "  </div>\n",
              "\n",
              "\n",
              "<div id=\"df-489b52d5-befe-43e7-a13f-1a1057a2c5c4\">\n",
              "  <button class=\"colab-df-quickchart\" onclick=\"quickchart('df-489b52d5-befe-43e7-a13f-1a1057a2c5c4')\"\n",
              "            title=\"Suggest charts\"\n",
              "            style=\"display:none;\">\n",
              "\n",
              "<svg xmlns=\"http://www.w3.org/2000/svg\" height=\"24px\"viewBox=\"0 0 24 24\"\n",
              "     width=\"24px\">\n",
              "    <g>\n",
              "        <path d=\"M19 3H5c-1.1 0-2 .9-2 2v14c0 1.1.9 2 2 2h14c1.1 0 2-.9 2-2V5c0-1.1-.9-2-2-2zM9 17H7v-7h2v7zm4 0h-2V7h2v10zm4 0h-2v-4h2v4z\"/>\n",
              "    </g>\n",
              "</svg>\n",
              "  </button>\n",
              "\n",
              "<style>\n",
              "  .colab-df-quickchart {\n",
              "      --bg-color: #E8F0FE;\n",
              "      --fill-color: #1967D2;\n",
              "      --hover-bg-color: #E2EBFA;\n",
              "      --hover-fill-color: #174EA6;\n",
              "      --disabled-fill-color: #AAA;\n",
              "      --disabled-bg-color: #DDD;\n",
              "  }\n",
              "\n",
              "  [theme=dark] .colab-df-quickchart {\n",
              "      --bg-color: #3B4455;\n",
              "      --fill-color: #D2E3FC;\n",
              "      --hover-bg-color: #434B5C;\n",
              "      --hover-fill-color: #FFFFFF;\n",
              "      --disabled-bg-color: #3B4455;\n",
              "      --disabled-fill-color: #666;\n",
              "  }\n",
              "\n",
              "  .colab-df-quickchart {\n",
              "    background-color: var(--bg-color);\n",
              "    border: none;\n",
              "    border-radius: 50%;\n",
              "    cursor: pointer;\n",
              "    display: none;\n",
              "    fill: var(--fill-color);\n",
              "    height: 32px;\n",
              "    padding: 0;\n",
              "    width: 32px;\n",
              "  }\n",
              "\n",
              "  .colab-df-quickchart:hover {\n",
              "    background-color: var(--hover-bg-color);\n",
              "    box-shadow: 0 1px 2px rgba(60, 64, 67, 0.3), 0 1px 3px 1px rgba(60, 64, 67, 0.15);\n",
              "    fill: var(--button-hover-fill-color);\n",
              "  }\n",
              "\n",
              "  .colab-df-quickchart-complete:disabled,\n",
              "  .colab-df-quickchart-complete:disabled:hover {\n",
              "    background-color: var(--disabled-bg-color);\n",
              "    fill: var(--disabled-fill-color);\n",
              "    box-shadow: none;\n",
              "  }\n",
              "\n",
              "  .colab-df-spinner {\n",
              "    border: 2px solid var(--fill-color);\n",
              "    border-color: transparent;\n",
              "    border-bottom-color: var(--fill-color);\n",
              "    animation:\n",
              "      spin 1s steps(1) infinite;\n",
              "  }\n",
              "\n",
              "  @keyframes spin {\n",
              "    0% {\n",
              "      border-color: transparent;\n",
              "      border-bottom-color: var(--fill-color);\n",
              "      border-left-color: var(--fill-color);\n",
              "    }\n",
              "    20% {\n",
              "      border-color: transparent;\n",
              "      border-left-color: var(--fill-color);\n",
              "      border-top-color: var(--fill-color);\n",
              "    }\n",
              "    30% {\n",
              "      border-color: transparent;\n",
              "      border-left-color: var(--fill-color);\n",
              "      border-top-color: var(--fill-color);\n",
              "      border-right-color: var(--fill-color);\n",
              "    }\n",
              "    40% {\n",
              "      border-color: transparent;\n",
              "      border-right-color: var(--fill-color);\n",
              "      border-top-color: var(--fill-color);\n",
              "    }\n",
              "    60% {\n",
              "      border-color: transparent;\n",
              "      border-right-color: var(--fill-color);\n",
              "    }\n",
              "    80% {\n",
              "      border-color: transparent;\n",
              "      border-right-color: var(--fill-color);\n",
              "      border-bottom-color: var(--fill-color);\n",
              "    }\n",
              "    90% {\n",
              "      border-color: transparent;\n",
              "      border-bottom-color: var(--fill-color);\n",
              "    }\n",
              "  }\n",
              "</style>\n",
              "\n",
              "  <script>\n",
              "    async function quickchart(key) {\n",
              "      const quickchartButtonEl =\n",
              "        document.querySelector('#' + key + ' button');\n",
              "      quickchartButtonEl.disabled = true;  // To prevent multiple clicks.\n",
              "      quickchartButtonEl.classList.add('colab-df-spinner');\n",
              "      try {\n",
              "        const charts = await google.colab.kernel.invokeFunction(\n",
              "            'suggestCharts', [key], {});\n",
              "      } catch (error) {\n",
              "        console.error('Error during call to suggestCharts:', error);\n",
              "      }\n",
              "      quickchartButtonEl.classList.remove('colab-df-spinner');\n",
              "      quickchartButtonEl.classList.add('colab-df-quickchart-complete');\n",
              "    }\n",
              "    (() => {\n",
              "      let quickchartButtonEl =\n",
              "        document.querySelector('#df-489b52d5-befe-43e7-a13f-1a1057a2c5c4 button');\n",
              "      quickchartButtonEl.style.display =\n",
              "        google.colab.kernel.accessAllowed ? 'block' : 'none';\n",
              "    })();\n",
              "  </script>\n",
              "</div>\n",
              "\n",
              "  <div id=\"id_71341e7e-826c-4a13-a675-56b39e57a211\">\n",
              "    <style>\n",
              "      .colab-df-generate {\n",
              "        background-color: #E8F0FE;\n",
              "        border: none;\n",
              "        border-radius: 50%;\n",
              "        cursor: pointer;\n",
              "        display: none;\n",
              "        fill: #1967D2;\n",
              "        height: 32px;\n",
              "        padding: 0 0 0 0;\n",
              "        width: 32px;\n",
              "      }\n",
              "\n",
              "      .colab-df-generate:hover {\n",
              "        background-color: #E2EBFA;\n",
              "        box-shadow: 0px 1px 2px rgba(60, 64, 67, 0.3), 0px 1px 3px 1px rgba(60, 64, 67, 0.15);\n",
              "        fill: #174EA6;\n",
              "      }\n",
              "\n",
              "      [theme=dark] .colab-df-generate {\n",
              "        background-color: #3B4455;\n",
              "        fill: #D2E3FC;\n",
              "      }\n",
              "\n",
              "      [theme=dark] .colab-df-generate:hover {\n",
              "        background-color: #434B5C;\n",
              "        box-shadow: 0px 1px 3px 1px rgba(0, 0, 0, 0.15);\n",
              "        filter: drop-shadow(0px 1px 2px rgba(0, 0, 0, 0.3));\n",
              "        fill: #FFFFFF;\n",
              "      }\n",
              "    </style>\n",
              "    <button class=\"colab-df-generate\" onclick=\"generateWithVariable('train_df')\"\n",
              "            title=\"Generate code using this dataframe.\"\n",
              "            style=\"display:none;\">\n",
              "\n",
              "  <svg xmlns=\"http://www.w3.org/2000/svg\" height=\"24px\"viewBox=\"0 0 24 24\"\n",
              "       width=\"24px\">\n",
              "    <path d=\"M7,19H8.4L18.45,9,17,7.55,7,17.6ZM5,21V16.75L18.45,3.32a2,2,0,0,1,2.83,0l1.4,1.43a1.91,1.91,0,0,1,.58,1.4,1.91,1.91,0,0,1-.58,1.4L9.25,21ZM18.45,9,17,7.55Zm-12,3A5.31,5.31,0,0,0,4.9,8.1,5.31,5.31,0,0,0,1,6.5,5.31,5.31,0,0,0,4.9,4.9,5.31,5.31,0,0,0,6.5,1,5.31,5.31,0,0,0,8.1,4.9,5.31,5.31,0,0,0,12,6.5,5.46,5.46,0,0,0,6.5,12Z\"/>\n",
              "  </svg>\n",
              "    </button>\n",
              "    <script>\n",
              "      (() => {\n",
              "      const buttonEl =\n",
              "        document.querySelector('#id_71341e7e-826c-4a13-a675-56b39e57a211 button.colab-df-generate');\n",
              "      buttonEl.style.display =\n",
              "        google.colab.kernel.accessAllowed ? 'block' : 'none';\n",
              "\n",
              "      buttonEl.onclick = () => {\n",
              "        google.colab.notebook.generateWithVariable('train_df');\n",
              "      }\n",
              "      })();\n",
              "    </script>\n",
              "  </div>\n",
              "\n",
              "    </div>\n",
              "  </div>\n"
            ],
            "application/vnd.google.colaboratory.intrinsic+json": {
              "type": "dataframe",
              "variable_name": "train_df",
              "summary": "{\n  \"name\": \"train_df\",\n  \"rows\": 320,\n  \"fields\": [\n    {\n      \"column\": \"Drug_ID\",\n      \"properties\": {\n        \"dtype\": \"string\",\n        \"num_unique_values\": 320,\n        \"samples\": [\n          \"Pentazocine\",\n          \"Endralazine\",\n          \"Isradipine\"\n        ],\n        \"semantic_type\": \"\",\n        \"description\": \"\"\n      }\n    },\n    {\n      \"column\": \"Drug\",\n      \"properties\": {\n        \"dtype\": \"string\",\n        \"num_unique_values\": 320,\n        \"samples\": [\n          \"CC(C)=CCN1CC[C@@]2(C)c3cc(O)ccc3C[C@@H]1[C@@H]2C\",\n          \"N/N=c1/cc2c(n[nH]1)CCN(C(=O)c1ccccc1)C2\",\n          \"COC(=O)C1=C(C)NC(C)=C(C(=O)OC(C)C)C1c1cccc2nonc12\"\n        ],\n        \"semantic_type\": \"\",\n        \"description\": \"\"\n      }\n    },\n    {\n      \"column\": \"Y\",\n      \"properties\": {\n        \"dtype\": \"number\",\n        \"std\": 0,\n        \"min\": 0,\n        \"max\": 1,\n        \"num_unique_values\": 2,\n        \"samples\": [\n          0,\n          1\n        ],\n        \"semantic_type\": \"\",\n        \"description\": \"\"\n      }\n    }\n  ]\n}"
            }
          },
          "metadata": {},
          "execution_count": 7
        }
      ]
    },
    {
      "cell_type": "markdown",
      "source": [
        "Concatenate X and y and export to a CSV file"
      ],
      "metadata": {
        "id": "ntSM1_hYq0gM"
      }
    },
    {
      "cell_type": "code",
      "source": [
        "# prompt: Concatenate X and y and export to a CSV file\n",
        "\n",
        "# Concatenate X and y for each DataFrame and export to CSV\n",
        "train_df.to_csv('train.csv', index=False)\n",
        "val_df.to_csv('val.csv', index=False)\n",
        "test_df.to_csv('test.csv', index=False)\n"
      ],
      "metadata": {
        "id": "Yj6s4ykuq7hj"
      },
      "execution_count": null,
      "outputs": []
    },
    {
      "cell_type": "markdown",
      "source": [
        "# Generate features"
      ],
      "metadata": {
        "id": "UwsQ2GgDFD9r"
      }
    },
    {
      "cell_type": "markdown",
      "source": [
        "Generate morgan fingerprints using the SMILES string of each compound and rdkit package"
      ],
      "metadata": {
        "id": "PG2oZv0sFY7F"
      }
    },
    {
      "cell_type": "code",
      "source": [
        "import pandas as pd\n",
        "import numpy as np\n",
        "from rdkit import Chem\n",
        "from rdkit.Chem import AllChem\n",
        "\n",
        "# Function to generate Morgan fingerprints as an array of features\n",
        "def generate_morgan_fingerprints(smiles, radius=2, nBits=2048):\n",
        "    mol = Chem.MolFromSmiles(smiles)\n",
        "    if mol is not None:\n",
        "        fp = AllChem.GetMorganFingerprintAsBitVect(mol, radius, nBits=nBits)\n",
        "        return np.array(fp)\n",
        "    else:\n",
        "        return None\n",
        "\n",
        "# Apply the function to the DataFrame\n",
        "train_df['Morgan_Fingerprints'] = train_df['Drug'].apply(generate_morgan_fingerprints)\n",
        "\n",
        "# Convert the list of fingerprints to a 2D NumPy array\n",
        "X_train = np.vstack(train_df['Morgan_Fingerprints'].values)\n",
        "y_train = train_df[\"Y\"]\n",
        "\n",
        "# Apply the function to the DataFrame\n",
        "test_df['Morgan_Fingerprints'] = test_df['Drug'].apply(generate_morgan_fingerprints)\n",
        "\n",
        "# Convert the list of fingerprints to a 2D NumPy array\n",
        "X_test = np.vstack(test_df['Morgan_Fingerprints'].values)\n",
        "y_test = test_df[\"Y\"]\n",
        "\n",
        "# Apply the function to the DataFrame\n",
        "val_df['Morgan_Fingerprints'] = val_df['Drug'].apply(generate_morgan_fingerprints)\n",
        "\n",
        "# Convert the list of fingerprints to a 2D NumPy array\n",
        "X_val = np.vstack(val_df['Morgan_Fingerprints'].values)\n",
        "y_val = val_df[\"Y\"]"
      ],
      "metadata": {
        "id": "4xh0Eq83Fbc2"
      },
      "execution_count": null,
      "outputs": []
    },
    {
      "cell_type": "code",
      "source": [
        "X_train"
      ],
      "metadata": {
        "colab": {
          "base_uri": "https://localhost:8080/"
        },
        "id": "M6Cz4h66nc3v",
        "outputId": "f84737da-e1b2-48a2-e223-63780cc9ce04"
      },
      "execution_count": null,
      "outputs": [
        {
          "output_type": "execute_result",
          "data": {
            "text/plain": [
              "array([[0, 0, 0, ..., 0, 0, 0],\n",
              "       [0, 0, 0, ..., 0, 0, 0],\n",
              "       [0, 1, 0, ..., 0, 0, 0],\n",
              "       ...,\n",
              "       [0, 0, 0, ..., 0, 0, 0],\n",
              "       [0, 0, 0, ..., 0, 0, 0],\n",
              "       [0, 1, 0, ..., 0, 0, 0]])"
            ]
          },
          "metadata": {},
          "execution_count": 11
        }
      ]
    },
    {
      "cell_type": "markdown",
      "source": [
        "Create new variables to generate all the 0D, 1D and 2D descriptors using the SMILES string of each compound and rdkit package"
      ],
      "metadata": {
        "id": "NVbxMXyCFb_H"
      }
    },
    {
      "cell_type": "code",
      "source": [
        "import pandas as pd\n",
        "import numpy as np\n",
        "from rdkit import Chem\n",
        "from rdkit.Chem import Descriptors\n",
        "from rdkit.ML.Descriptors import MoleculeDescriptors\n",
        "\n",
        "# List of descriptors to calculate\n",
        "descriptor_names = [name for name, _ in Descriptors._descList]\n",
        "\n",
        "# Function to calculate descriptors\n",
        "def calculate_descriptors(smiles):\n",
        "    mol = Chem.MolFromSmiles(smiles)\n",
        "    if mol is not None:\n",
        "        calculator = MoleculeDescriptors.MolecularDescriptorCalculator(descriptor_names)\n",
        "        descriptors = calculator.CalcDescriptors(mol)\n",
        "        return descriptors\n",
        "    else:\n",
        "        return [None] * len(descriptor_names)\n",
        "\n",
        "# Apply the function to the DataFrame\n",
        "df_descriptors = pd.DataFrame(train_df['Drug'].apply(calculate_descriptors).tolist(), columns=descriptor_names)\n",
        "\n",
        "# Convert the DataFrame to a NumPy array, dropping any rows with NaN values\n",
        "X_train_descriptors = df_descriptors.to_numpy()\n",
        "\n",
        "# Display the feature array\n",
        "X_train_descriptors\n"
      ],
      "metadata": {
        "id": "pCPjG18BFmHb",
        "colab": {
          "base_uri": "https://localhost:8080/"
        },
        "outputId": "844e0c37-2079-4ffa-ff57-c48e9515f9e7"
      },
      "execution_count": null,
      "outputs": [
        {
          "output_type": "execute_result",
          "data": {
            "text/plain": [
              "array([[1.24147305e+01, 1.24147305e+01, 6.20054161e-03, ...,\n",
              "        0.00000000e+00, 0.00000000e+00, 0.00000000e+00],\n",
              "       [1.16093165e+01, 1.16093165e+01, 1.27962440e-01, ...,\n",
              "        0.00000000e+00, 0.00000000e+00, 0.00000000e+00],\n",
              "       [1.23341730e+01, 1.23341730e+01, 3.74515411e-01, ...,\n",
              "        0.00000000e+00, 0.00000000e+00, 0.00000000e+00],\n",
              "       ...,\n",
              "       [1.43050866e+01, 1.43050866e+01, 9.88189785e-03, ...,\n",
              "        0.00000000e+00, 0.00000000e+00, 0.00000000e+00],\n",
              "       [1.15663361e+01, 1.15663361e+01, 4.99095480e-02, ...,\n",
              "        0.00000000e+00, 0.00000000e+00, 0.00000000e+00],\n",
              "       [1.21761042e+01, 1.21761042e+01, 5.35193584e-02, ...,\n",
              "        0.00000000e+00, 0.00000000e+00, 0.00000000e+00]])"
            ]
          },
          "metadata": {},
          "execution_count": 12
        }
      ]
    },
    {
      "cell_type": "code",
      "source": [
        "# Apply the function to the DataFrame\n",
        "df_descriptors = pd.DataFrame(test_df['Drug'].apply(calculate_descriptors).tolist(), columns=descriptor_names)\n",
        "\n",
        "# Convert the DataFrame to a NumPy array, dropping any rows with NaN values\n",
        "X_test_descriptors = df_descriptors.to_numpy()\n",
        "\n",
        "# Display the feature array\n",
        "X_test_descriptors"
      ],
      "metadata": {
        "colab": {
          "base_uri": "https://localhost:8080/"
        },
        "id": "SKzQxcLRDP1e",
        "outputId": "5dcd7e8e-58bc-4338-d497-b7a9c38ca6b6"
      },
      "execution_count": null,
      "outputs": [
        {
          "output_type": "execute_result",
          "data": {
            "text/plain": [
              "array([[12.00867903, 12.00867903,  0.19571688, ...,  0.        ,\n",
              "         0.        ,  0.        ],\n",
              "       [12.56453068, 12.56453068,  0.20334562, ...,  0.        ,\n",
              "         0.        ,  0.        ],\n",
              "       [10.37248662, 10.37248662,  0.08827339, ...,  0.        ,\n",
              "         0.        ,  0.        ],\n",
              "       ...,\n",
              "       [10.04255433, 10.04255433,  0.01660176, ...,  0.        ,\n",
              "         0.        ,  0.        ],\n",
              "       [ 9.24712963,  9.24712963,  0.52724537, ...,  0.        ,\n",
              "         0.        ,  0.        ],\n",
              "       [11.77454152, 11.77454152,  0.393232  , ...,  0.        ,\n",
              "         0.        ,  0.        ]])"
            ]
          },
          "metadata": {},
          "execution_count": 13
        }
      ]
    },
    {
      "cell_type": "code",
      "source": [
        "# Apply the function to the DataFrame\n",
        "df_descriptors = pd.DataFrame(val_df['Drug'].apply(calculate_descriptors).tolist(), columns=descriptor_names)\n",
        "\n",
        "# Convert the DataFrame to a NumPy array, dropping any rows with NaN values\n",
        "X_val_descriptors = df_descriptors.to_numpy()\n",
        "\n",
        "# Display the feature array\n",
        "X_val_descriptors"
      ],
      "metadata": {
        "colab": {
          "base_uri": "https://localhost:8080/"
        },
        "id": "cvlaGQBBDYKV",
        "outputId": "810ea656-22b4-4fa3-db75-c7baf160b717"
      },
      "execution_count": null,
      "outputs": [
        {
          "output_type": "execute_result",
          "data": {
            "text/plain": [
              "array([[ 6.3850657 ,  6.3850657 ,  0.43819004, ...,  0.        ,\n",
              "         0.        ,  0.        ],\n",
              "       [10.92966356, 10.92966356,  0.02896719, ...,  0.        ,\n",
              "         0.        ,  0.        ],\n",
              "       [12.16735002, 12.16735002,  0.06400099, ...,  0.        ,\n",
              "         0.        ,  1.        ],\n",
              "       ...,\n",
              "       [12.04003379, 12.04003379,  0.03522198, ...,  0.        ,\n",
              "         0.        ,  1.        ],\n",
              "       [11.21475476, 11.21475476,  0.50875555, ...,  0.        ,\n",
              "         3.        ,  0.        ],\n",
              "       [ 9.26191043,  9.26191043,  0.3399537 , ...,  0.        ,\n",
              "         0.        ,  0.        ]])"
            ]
          },
          "metadata": {},
          "execution_count": 14
        }
      ]
    },
    {
      "cell_type": "markdown",
      "source": [
        "# Select features"
      ],
      "metadata": {
        "id": "tr-EPuaeFoPD"
      }
    },
    {
      "cell_type": "markdown",
      "source": [
        "Use the variance threshold feature selector from sklearn to select the features with higher variances"
      ],
      "metadata": {
        "id": "pAJyoBKaF-Wq"
      }
    },
    {
      "cell_type": "code",
      "source": [
        "# prompt: Use the variance threshold feature selector from sklearn to select the features with higher variances from X_train, X_val and X_test\n",
        "\n",
        "from sklearn.feature_selection import VarianceThreshold\n",
        "\n",
        "# Initialize VarianceThreshold with a threshold (e.g., 0.1)\n",
        "selector = VarianceThreshold(threshold=0.1)\n",
        "\n",
        "# Fit the selector on the training data and transform the training, validation, and test data\n",
        "X_train_descriptors_selected = selector.fit_transform(X_train_descriptors)\n",
        "X_val_descriptors_selected = selector.transform(X_val_descriptors)\n",
        "X_test_descriptors_selected = selector.transform(X_test_descriptors)\n",
        "\n",
        "print(X_train_descriptors_selected.shape)\n",
        "print(X_val_descriptors_selected.shape)\n",
        "X_test_descriptors_selected.shape\n"
      ],
      "metadata": {
        "id": "gWTibNiOHUsZ",
        "colab": {
          "base_uri": "https://localhost:8080/"
        },
        "outputId": "83bd8911-c9f2-4586-da05-5c4b4d0fe59d"
      },
      "execution_count": null,
      "outputs": [
        {
          "output_type": "stream",
          "name": "stdout",
          "text": [
            "(320, 145)\n",
            "(128, 145)\n"
          ]
        },
        {
          "output_type": "execute_result",
          "data": {
            "text/plain": [
              "(192, 145)"
            ]
          },
          "metadata": {},
          "execution_count": 15
        }
      ]
    },
    {
      "cell_type": "code",
      "source": [
        "# prompt: Use the variance threshold feature selector from sklearn to select the features with higher variances from X_train, X_val and X_test\n",
        "\n",
        "from sklearn.feature_selection import VarianceThreshold\n",
        "\n",
        "# Initialize VarianceThreshold with a threshold (e.g., 0.1)\n",
        "selector = VarianceThreshold(threshold=0.1)\n",
        "\n",
        "# Fit the selector on the training data and transform the training, validation, and test data\n",
        "X_train_fp_selected = selector.fit_transform(X_train)\n",
        "X_val_fp_selected = selector.transform(X_val)\n",
        "X_test_fp_selected = selector.transform(X_test)\n",
        "\n",
        "print(X_train_fp_selected.shape)\n",
        "print(X_val_fp_selected.shape)\n",
        "X_test_fp_selected.shape\n"
      ],
      "metadata": {
        "colab": {
          "base_uri": "https://localhost:8080/"
        },
        "id": "7zprJ4nJD32l",
        "outputId": "f8c7700d-bd82-4282-d126-6c87bcd5a7b2"
      },
      "execution_count": null,
      "outputs": [
        {
          "output_type": "stream",
          "name": "stdout",
          "text": [
            "(320, 48)\n",
            "(128, 48)\n"
          ]
        },
        {
          "output_type": "execute_result",
          "data": {
            "text/plain": [
              "(192, 48)"
            ]
          },
          "metadata": {},
          "execution_count": 16
        }
      ]
    },
    {
      "cell_type": "markdown",
      "source": [
        "# Train models"
      ],
      "metadata": {
        "id": "sW_pP1TaHlNp"
      }
    },
    {
      "cell_type": "markdown",
      "source": [
        "Train and optimize a random forest using sklearn's random search class with both features"
      ],
      "metadata": {
        "id": "hLlX5tBEIJCM"
      }
    },
    {
      "cell_type": "code",
      "source": [
        "# prompt: Train and optimize a random forest using sklearn's random search class with both features\n",
        "\n",
        "import numpy as np\n",
        "from sklearn.ensemble import RandomForestClassifier\n",
        "from sklearn.model_selection import RandomizedSearchCV\n",
        "from scipy.stats import randint, uniform\n",
        "\n",
        "# Define the parameter distribution for Random Search\n",
        "param_dist = {\n",
        "    'n_estimators': randint(50, 500),\n",
        "    'max_depth': [None] + list(randint(10, 100).rvs(10)),  # Include None for no max_depth\n",
        "    'min_samples_split': randint(2, 20),\n",
        "    'min_samples_leaf': randint(1, 20),\n",
        "    'max_features': uniform(0.1, 0.9),\n",
        "    'bootstrap': [True, False],\n",
        "    'criterion': ['gini', 'entropy']\n",
        "}\n",
        "\n",
        "# Initialize the RandomForestClassifier\n",
        "rf = RandomForestClassifier(random_state=42)\n",
        "\n",
        "# Initialize RandomizedSearchCV\n",
        "random_search = RandomizedSearchCV(\n",
        "    estimator=rf,\n",
        "    param_distributions=param_dist,\n",
        "    n_iter=10,  # Number of parameter settings that are sampled\n",
        "    cv=5,  # Number of cross-validation folds\n",
        "    scoring='accuracy',  # Use an appropriate scoring metric\n",
        "    n_jobs=-1,  # Use all available cores\n",
        "    random_state=42,\n",
        "    verbose=1\n",
        ")\n",
        "\n",
        "# Fit the model to the combined training data\n",
        "random_search.fit(X_train_fp_selected, y_train)\n",
        "\n",
        "# Print the best hyperparameters and the best score\n",
        "print(\"Best hyperparameters:\", random_search.best_params_)\n",
        "print(\"Best score:\", random_search.best_score_)\n"
      ],
      "metadata": {
        "id": "0IoqMb1qNDKE",
        "colab": {
          "base_uri": "https://localhost:8080/"
        },
        "outputId": "d750667d-0ad7-43a6-d264-22c5cc52d2db"
      },
      "execution_count": null,
      "outputs": [
        {
          "output_type": "stream",
          "name": "stdout",
          "text": [
            "Fitting 5 folds for each of 10 candidates, totalling 50 fits\n",
            "Best hyperparameters: {'bootstrap': True, 'criterion': 'gini', 'max_depth': 28, 'max_features': 0.1585464336867516, 'min_samples_leaf': 4, 'min_samples_split': 15, 'n_estimators': 291}\n",
            "Best score: 0.775\n"
          ]
        }
      ]
    },
    {
      "cell_type": "code",
      "source": [
        "# Evaluate the best model on the test set\n",
        "best_rf = random_search.best_estimator_\n",
        "test_accuracy_rf_fp = best_rf.score(X_test_fp_selected, y_test)\n",
        "print(f\"Test Accuracy of best model: {test_accuracy_rf_fp}\")"
      ],
      "metadata": {
        "colab": {
          "base_uri": "https://localhost:8080/"
        },
        "id": "E4W-8XBsE47k",
        "outputId": "4c025788-4be1-4f5e-dc12-4dc7984973e8"
      },
      "execution_count": null,
      "outputs": [
        {
          "output_type": "stream",
          "name": "stdout",
          "text": [
            "Test Accuracy of best model: 0.7916666666666666\n"
          ]
        }
      ]
    },
    {
      "cell_type": "code",
      "source": [
        "# Initialize the RandomForestClassifier\n",
        "rf = RandomForestClassifier(random_state=42)\n",
        "\n",
        "# Initialize RandomizedSearchCV\n",
        "random_search = RandomizedSearchCV(\n",
        "    estimator=rf,\n",
        "    param_distributions=param_dist,\n",
        "    n_iter=10,  # Number of parameter settings that are sampled\n",
        "    cv=5,  # Number of cross-validation folds\n",
        "    scoring='accuracy',  # Use an appropriate scoring metric\n",
        "    n_jobs=-1,  # Use all available cores\n",
        "    random_state=42,\n",
        "    verbose=1\n",
        ")\n",
        "\n",
        "# Fit the model to the combined training data\n",
        "random_search.fit(X_train_descriptors_selected, y_train)\n",
        "\n",
        "# Print the best hyperparameters and the best score\n",
        "print(\"Best hyperparameters:\", random_search.best_params_)\n",
        "print(\"Best score:\", random_search.best_score_)"
      ],
      "metadata": {
        "id": "0sbMruWDl9lO",
        "colab": {
          "base_uri": "https://localhost:8080/"
        },
        "outputId": "a533b4c8-ccff-4eae-fa98-20f56eb82103"
      },
      "execution_count": null,
      "outputs": [
        {
          "output_type": "stream",
          "name": "stdout",
          "text": [
            "Fitting 5 folds for each of 10 candidates, totalling 50 fits\n",
            "Best hyperparameters: {'bootstrap': False, 'criterion': 'entropy', 'max_depth': 25, 'max_features': 0.28714749658136995, 'min_samples_leaf': 4, 'min_samples_split': 19, 'n_estimators': 267}\n",
            "Best score: 0.803125\n"
          ]
        }
      ]
    },
    {
      "cell_type": "code",
      "source": [
        "# Evaluate the best model on the test set\n",
        "best_rf_descriptors = random_search.best_estimator_\n",
        "test_accuracy_descriptors_rf = best_rf_descriptors.score(X_test_descriptors_selected, y_test)\n",
        "print(f\"Test Accuracy of best model: {test_accuracy_descriptors_rf}\")"
      ],
      "metadata": {
        "colab": {
          "base_uri": "https://localhost:8080/"
        },
        "id": "U_zSm1LuGh2w",
        "outputId": "4dc3b41a-1f7b-43a3-dc73-636459fc7407"
      },
      "execution_count": null,
      "outputs": [
        {
          "output_type": "stream",
          "name": "stdout",
          "text": [
            "Test Accuracy of best model: 0.7916666666666666\n"
          ]
        }
      ]
    },
    {
      "cell_type": "markdown",
      "source": [
        "Train and optimize a logistic regression using sklearn with both features"
      ],
      "metadata": {
        "id": "-Ur7yHJLNDfx"
      }
    },
    {
      "cell_type": "code",
      "source": [
        "# prompt: Train and optimize a logistic regression using sklearn's Randomized search with both features\n",
        "\n",
        "from sklearn.linear_model import LogisticRegression\n",
        "from sklearn.model_selection import RandomizedSearchCV\n",
        "from scipy.stats import uniform\n",
        "\n",
        "# Define the parameter distribution for RandomizedSearchCV\n",
        "param_dist = {\n",
        "    'C': uniform(0.001, 10),  # Inverse of regularization strength\n",
        "    'penalty': ['l1', 'l2'],\n",
        "    'solver': ['liblinear', 'saga'] # Solvers that support both penalties\n",
        "}\n",
        "\n",
        "# Initialize Logistic Regression\n",
        "logreg = LogisticRegression(max_iter=100, random_state=42) # Increase max_iter if needed\n",
        "\n",
        "# Initialize RandomizedSearchCV for Logistic Regression with combined features\n",
        "random_search_logreg_fp = RandomizedSearchCV(\n",
        "    estimator=logreg,\n",
        "    param_distributions=param_dist,\n",
        "    n_iter=10,  # Number of parameter settings sampled\n",
        "    cv=5,  # Cross-validation folds\n",
        "    scoring='accuracy',\n",
        "    n_jobs=-1,  # Use all cores\n",
        "    random_state=42,\n",
        "    verbose=1\n",
        ")\n",
        "\n",
        "\n",
        "# Fit the model on morgan fingerprints\n",
        "random_search_logreg_fp.fit(X_train_fp_selected, y_train)\n",
        "\n",
        "print(\"Best hyperparameters (Morgan Fingerprints):\", random_search_logreg_fp.best_params_)\n",
        "print(\"Best score (Morgan Fingerprints):\", random_search_logreg_fp.best_score_)\n",
        "\n",
        "# Evaluate on the test set\n",
        "best_logreg_fp = random_search_logreg_fp.best_estimator_\n",
        "test_accuracy_logreg_fp = best_logreg_fp.score(X_test_fp_selected, y_test)\n",
        "print(f\"Test Accuracy (Morgan Fingerprints): {test_accuracy_logreg_fp}\")"
      ],
      "metadata": {
        "id": "HrTHI_JaGyta"
      },
      "execution_count": null,
      "outputs": []
    },
    {
      "cell_type": "markdown",
      "source": [
        "Compare models' performance using the accuracy metric on the test set"
      ],
      "metadata": {
        "id": "EkTxMxljNQFK"
      }
    },
    {
      "cell_type": "code",
      "source": [
        "# prompt: Compare models' performance using the accuracy metric on the test set using a bar plot highlighting the differences between different models\n",
        "\n",
        "import matplotlib.pyplot as plt\n",
        "\n",
        "# Accuracy scores (replace with your actual scores)\n",
        "models = ['Random Forest (Morgan Fingerprints)', 'Random Forest (Descriptors)', 'Logistic Regression (Morgan Fingerprints)']\n",
        "accuracy_scores = [test_accuracy_rf_fp, test_accuracy_descriptors_rf, test_accuracy_logreg_fp]\n",
        "\n",
        "# Create the bar plot\n",
        "plt.figure(figsize=(10, 6))\n",
        "plt.bar(models, accuracy_scores, color=['skyblue', 'lightcoral', 'lightgreen'])\n",
        "plt.xlabel(\"Models\")\n",
        "plt.ylabel(\"Accuracy\")\n",
        "plt.title(\"Comparison of Model Performance on Test Set\")\n",
        "plt.ylim(0, 1)  # Set y-axis limit to 0-1 for accuracy\n",
        "\n",
        "# Add value labels on top of each bar\n",
        "for i, v in enumerate(accuracy_scores):\n",
        "    plt.text(i, v + 0.01, f\"{v:.4f}\", ha='center', va='bottom')\n",
        "\n",
        "plt.show()\n"
      ],
      "metadata": {
        "id": "zRqegF9qNuRq",
        "colab": {
          "base_uri": "https://localhost:8080/",
          "height": 564
        },
        "outputId": "e834dbe5-337e-449d-f481-fcc716028080"
      },
      "execution_count": null,
      "outputs": [
        {
          "output_type": "display_data",
          "data": {
            "text/plain": [
              "<Figure size 1000x600 with 1 Axes>"
            ],
            "image/png": "[encoded data removed]"
          },
          "metadata": {}
        }
      ]
    },
    {
      "cell_type": "markdown",
      "source": [
        "# Alternatively, all the previous steps with DeepMol"
      ],
      "metadata": {
        "id": "2lNmXCT0SyHE"
      }
    },
    {
      "cell_type": "code",
      "source": [
        "from deepmol.loaders import CSVLoader\n",
        "\n",
        "from deepmol.pipeline import Pipeline\n",
        "from deepmol.compound_featurization import MorganFingerprint\n",
        "from deepmol.feature_selection import LowVarianceFS\n",
        "from deepmol.metrics import Metric\n",
        "from sklearn.metrics import accuracy_score\n",
        "from scipy.stats import randint, uniform\n",
        "from sklearn.ensemble import RandomForestClassifier\n",
        "\n",
        "\n",
        "# LOAD THE DATA\n",
        "loader = CSVLoader('train.csv',\n",
        "                   smiles_field='Drug',\n",
        "                   labels_fields=['Y'],\n",
        "                   mode='classification')\n",
        "train_dataset = loader.create_dataset(sep=\",\")\n",
        "\n",
        "\n",
        "steps = [\n",
        "         ('morgan fingerprints', MorganFingerprint(radius=2, size=1024)),\n",
        "         ('low variance feature selection', LowVarianceFS(threshold=0.1)),\n",
        "         ]\n",
        "\n",
        "from deepmol.parameter_optimization import HyperparameterOptimizerCV\n",
        "\n",
        "# Define the parameter distribution for Random Search\n",
        "param_dist = {\n",
        "    'n_estimators': randint(50, 500).rvs(10),\n",
        "    'max_depth': [None] + list(randint(10, 100).rvs(10)),  # Include None for no max_depth\n",
        "    'min_samples_split': randint(2, 20).rvs(10),\n",
        "    'min_samples_leaf': randint(1, 20).rvs(10),\n",
        "    'max_features': uniform(0.1, 0.9).rvs(10),\n",
        "    'bootstrap': [True, False],\n",
        "    'criterion': ['gini', 'entropy']\n",
        "}\n",
        "optimizer = HyperparameterOptimizerCV(RandomForestClassifier, metric=Metric(accuracy_score),\n",
        "                                          maximize_metric=True,\n",
        "                                          cv=5,\n",
        "                                          n_iter_search=10,\n",
        "                                          params_dict=param_dist,\n",
        "                                          model_type=\"sklearn\")\n",
        "pipeline = Pipeline(steps=steps, path=\"oral_bioavailability_deepmol\", hpo=optimizer)\n",
        "pipeline.fit(train_dataset)\n",
        "\n"
      ],
      "metadata": {
        "colab": {
          "base_uri": "https://localhost:8080/"
        },
        "id": "-xy99C2MSxQ0",
        "outputId": "47954672-9f25-45f0-db4d-33f191e4638f"
      },
      "execution_count": null,
      "outputs": [
        {
          "output_type": "stream",
          "name": "stderr",
          "text": [
            "MorganFingerprint: 100%|██████████| 320/320 [00:00<00:00, 511.80it/s]\n",
            "INFO:deepmol.log:MODEL TYPE: sklearn\n",
            "INFO:deepmol.log:Fitting 10 random models from a space of 440000 possible models.\n",
            "INFO:deepmol.log:\n",
            " \n",
            " Best <function accuracy_score at 0x7aa7b7565120>: 0.781250 using {'n_estimators': 291, 'min_samples_split': 14, 'min_samples_leaf': 7, 'max_features': 0.291033313095595, 'max_depth': 59, 'criterion': 'gini', 'bootstrap': False}\n",
            "INFO:deepmol.log:\n",
            " <function accuracy_score at 0x7aa7b7565120>: 0.762500 (0.040020) with: {'n_estimators': 245, 'min_samples_split': 8, 'min_samples_leaf': 11, 'max_features': 0.7763174175233486, 'max_depth': 93, 'criterion': 'gini', 'bootstrap': False} \n",
            "\n",
            "INFO:deepmol.log:\n",
            " <function accuracy_score at 0x7aa7b7565120>: 0.781250 (0.040745) with: {'n_estimators': 291, 'min_samples_split': 14, 'min_samples_leaf': 7, 'max_features': 0.291033313095595, 'max_depth': 59, 'criterion': 'gini', 'bootstrap': False} \n",
            "\n",
            "INFO:deepmol.log:\n",
            " <function accuracy_score at 0x7aa7b7565120>: 0.781250 (0.039528) with: {'n_estimators': 497, 'min_samples_split': 10, 'min_samples_leaf': 7, 'max_features': 0.7842035737992424, 'max_depth': 93, 'criterion': 'gini', 'bootstrap': True} \n",
            "\n",
            "INFO:deepmol.log:\n",
            " <function accuracy_score at 0x7aa7b7565120>: 0.781250 (0.009882) with: {'n_estimators': 497, 'min_samples_split': 10, 'min_samples_leaf': 10, 'max_features': 0.291033313095595, 'max_depth': 10, 'criterion': 'gini', 'bootstrap': True} \n",
            "\n",
            "INFO:deepmol.log:\n",
            " <function accuracy_score at 0x7aa7b7565120>: 0.765625 (0.040745) with: {'n_estimators': 183, 'min_samples_split': 4, 'min_samples_leaf': 9, 'max_features': 0.8330348233608819, 'max_depth': 57, 'criterion': 'entropy', 'bootstrap': True} \n",
            "\n",
            "INFO:deepmol.log:\n",
            " <function accuracy_score at 0x7aa7b7565120>: 0.750000 (0.041926) with: {'n_estimators': 497, 'min_samples_split': 17, 'min_samples_leaf': 7, 'max_features': 0.8330348233608819, 'max_depth': 59, 'criterion': 'entropy', 'bootstrap': False} \n",
            "\n",
            "INFO:deepmol.log:\n",
            " <function accuracy_score at 0x7aa7b7565120>: 0.762500 (0.011693) with: {'n_estimators': 53, 'min_samples_split': 4, 'min_samples_leaf': 16, 'max_features': 0.8076264417914356, 'max_depth': 57, 'criterion': 'entropy', 'bootstrap': True} \n",
            "\n",
            "INFO:deepmol.log:\n",
            " <function accuracy_score at 0x7aa7b7565120>: 0.781250 (0.022097) with: {'n_estimators': 291, 'min_samples_split': 8, 'min_samples_leaf': 9, 'max_features': 0.3448302985827517, 'max_depth': 83, 'criterion': 'entropy', 'bootstrap': True} \n",
            "\n",
            "INFO:deepmol.log:\n",
            " <function accuracy_score at 0x7aa7b7565120>: 0.765625 (0.009882) with: {'n_estimators': 497, 'min_samples_split': 10, 'min_samples_leaf': 18, 'max_features': 0.7763174175233486, 'max_depth': 10, 'criterion': 'entropy', 'bootstrap': True} \n",
            "\n",
            "INFO:deepmol.log:\n",
            " <function accuracy_score at 0x7aa7b7565120>: 0.768750 (0.006250) with: {'n_estimators': 276, 'min_samples_split': 14, 'min_samples_leaf': 16, 'max_features': 0.3448302985827517, 'max_depth': 56, 'criterion': 'gini', 'bootstrap': True} \n",
            "\n",
            "INFO:deepmol.log:Fitting best model!\n",
            "INFO:deepmol.log:SklearnModel(mode='classification',\n",
            "             model=RandomForestClassifier(bootstrap=False, max_depth=59,\n",
            "                                          max_features=0.291033313095595,\n",
            "                                          min_samples_leaf=7,\n",
            "                                          min_samples_split=14,\n",
            "                                          n_estimators=291),\n",
            "             model_dir='/tmp/tmprvd_j328')\n"
          ]
        },
        {
          "output_type": "execute_result",
          "data": {
            "text/plain": [
              "<deepmol.pipeline.pipeline.Pipeline at 0x7aa640bf5e10>"
            ]
          },
          "metadata": {},
          "execution_count": 13
        }
      ]
    },
    {
      "cell_type": "code",
      "source": [
        "loader = CSVLoader('test.csv',\n",
        "                   smiles_field='Drug',\n",
        "                   labels_fields=['Y'],\n",
        "                   mode='classification')\n",
        "test_dataset = loader.create_dataset(sep=\",\")\n",
        "\n",
        "predictions = pipeline.predict(test_dataset)\n",
        "accuracy_rf_fp_deepmol = accuracy_score(test_dataset.y, predictions)\n",
        "accuracy_rf_fp_deepmol"
      ],
      "metadata": {
        "colab": {
          "base_uri": "https://localhost:8080/"
        },
        "id": "9lo5ksPVUues",
        "outputId": "ee0aa2b2-792a-4b2f-e392-96cd684e4f15"
      },
      "execution_count": null,
      "outputs": [
        {
          "output_type": "stream",
          "name": "stderr",
          "text": [
            "MorganFingerprint: 100%|██████████| 192/192 [00:00<00:00, 1147.48it/s]\n"
          ]
        },
        {
          "output_type": "execute_result",
          "data": {
            "text/plain": [
              "0.7916666666666666"
            ]
          },
          "metadata": {},
          "execution_count": 14
        }
      ]
    },
    {
      "cell_type": "code",
      "source": [
        "pipeline.save()"
      ],
      "metadata": {
        "id": "MG68Q83ZCIad"
      },
      "execution_count": null,
      "outputs": []
    },
    {
      "cell_type": "markdown",
      "source": [
        "Using descriptors now"
      ],
      "metadata": {
        "id": "j3uUt1WTB2oy"
      }
    },
    {
      "cell_type": "code",
      "source": [
        "from deepmol.loaders import CSVLoader\n",
        "from deepmol.pipeline import Pipeline\n",
        "from deepmol.compound_featurization import TwoDimensionDescriptors\n",
        "from deepmol.feature_selection import LowVarianceFS\n",
        "from deepmol.metrics import Metric\n",
        "from sklearn.metrics import accuracy_score\n",
        "\n",
        "\n",
        "# LOAD THE DATA\n",
        "loader = CSVLoader('train.csv',\n",
        "                   smiles_field='Drug',\n",
        "                   labels_fields=['Y'],\n",
        "                   mode='classification')\n",
        "train_dataset = loader.create_dataset(sep=\",\")\n",
        "\n",
        "\n",
        "steps = [\n",
        "         ('descriptors', TwoDimensionDescriptors()),\n",
        "         ('low variance feature selection', LowVarianceFS()),\n",
        "         ]\n",
        "\n",
        "from deepmol.parameter_optimization import HyperparameterOptimizerCV\n",
        "\n",
        "optimizer = HyperparameterOptimizerCV(RandomForestClassifier, metric=Metric(accuracy_score),\n",
        "                                          maximize_metric=True,\n",
        "                                          cv=5,\n",
        "                                          n_iter_search=10,\n",
        "                                          params_dict=param_dist,\n",
        "                                          model_type=\"sklearn\")\n",
        "pipeline_descriptors = Pipeline(steps=steps, path=\"oral_bioavailability_descriptors\",\n",
        "                                hpo=optimizer)\n",
        "pipeline_descriptors.fit(train_dataset)\n",
        "\n"
      ],
      "metadata": {
        "colab": {
          "base_uri": "https://localhost:8080/"
        },
        "id": "QCe7TrFQcPwN",
        "outputId": "0595cac5-e3f0-49ba-c451-4d6a6071072d"
      },
      "execution_count": null,
      "outputs": [
        {
          "output_type": "stream",
          "name": "stderr",
          "text": [
            "TwoDimensionDescriptors:  25%|██▌       | 81/320 [00:01<00:03, 60.08it/s]ERROR:deepmol.log:Failed to featurize CCP(CC)(CC)=[Au]S[C@@H]1O[C@H](COC(C)=O)[C@@H](OC(C)=O)[C@H](OC(C)=O)[C@H]1OC(C)=O. Appending empty array\n",
            "ERROR:deepmol.log:Exception message: \n",
            "TwoDimensionDescriptors: 100%|██████████| 320/320 [00:06<00:00, 47.89it/s]\n",
            "INFO:deepmol.log:MODEL TYPE: sklearn\n",
            "INFO:deepmol.log:Fitting 10 random models from a space of 440000 possible models.\n",
            "INFO:deepmol.log:\n",
            " \n",
            " Best <function accuracy_score at 0x7aa7b7565120>: 0.799355 using {'n_estimators': 291, 'min_samples_split': 14, 'min_samples_leaf': 7, 'max_features': 0.291033313095595, 'max_depth': 59, 'criterion': 'gini', 'bootstrap': False}\n",
            "INFO:deepmol.log:\n",
            " <function accuracy_score at 0x7aa7b7565120>: 0.764881 (0.053238) with: {'n_estimators': 245, 'min_samples_split': 8, 'min_samples_leaf': 11, 'max_features': 0.7763174175233486, 'max_depth': 93, 'criterion': 'gini', 'bootstrap': False} \n",
            "\n",
            "INFO:deepmol.log:\n",
            " <function accuracy_score at 0x7aa7b7565120>: 0.799355 (0.046832) with: {'n_estimators': 291, 'min_samples_split': 14, 'min_samples_leaf': 7, 'max_features': 0.291033313095595, 'max_depth': 59, 'criterion': 'gini', 'bootstrap': False} \n",
            "\n",
            "INFO:deepmol.log:\n",
            " <function accuracy_score at 0x7aa7b7565120>: 0.789980 (0.048948) with: {'n_estimators': 497, 'min_samples_split': 10, 'min_samples_leaf': 7, 'max_features': 0.7842035737992424, 'max_depth': 93, 'criterion': 'gini', 'bootstrap': True} \n",
            "\n",
            "INFO:deepmol.log:\n",
            " <function accuracy_score at 0x7aa7b7565120>: 0.780506 (0.041056) with: {'n_estimators': 497, 'min_samples_split': 10, 'min_samples_leaf': 10, 'max_features': 0.291033313095595, 'max_depth': 10, 'criterion': 'gini', 'bootstrap': True} \n",
            "\n",
            "INFO:deepmol.log:\n",
            " <function accuracy_score at 0x7aa7b7565120>: 0.786806 (0.041586) with: {'n_estimators': 183, 'min_samples_split': 4, 'min_samples_leaf': 9, 'max_features': 0.8330348233608819, 'max_depth': 57, 'criterion': 'entropy', 'bootstrap': True} \n",
            "\n",
            "INFO:deepmol.log:\n",
            " <function accuracy_score at 0x7aa7b7565120>: 0.771181 (0.046861) with: {'n_estimators': 497, 'min_samples_split': 17, 'min_samples_leaf': 7, 'max_features': 0.8330348233608819, 'max_depth': 59, 'criterion': 'entropy', 'bootstrap': False} \n",
            "\n",
            "INFO:deepmol.log:\n",
            " <function accuracy_score at 0x7aa7b7565120>: 0.786756 (0.043025) with: {'n_estimators': 53, 'min_samples_split': 4, 'min_samples_leaf': 16, 'max_features': 0.8076264417914356, 'max_depth': 57, 'criterion': 'entropy', 'bootstrap': True} \n",
            "\n",
            "INFO:deepmol.log:\n",
            " <function accuracy_score at 0x7aa7b7565120>: 0.783581 (0.049395) with: {'n_estimators': 291, 'min_samples_split': 8, 'min_samples_leaf': 9, 'max_features': 0.3448302985827517, 'max_depth': 83, 'criterion': 'entropy', 'bootstrap': True} \n",
            "\n",
            "INFO:deepmol.log:\n",
            " <function accuracy_score at 0x7aa7b7565120>: 0.780506 (0.037318) with: {'n_estimators': 497, 'min_samples_split': 10, 'min_samples_leaf': 18, 'max_features': 0.7763174175233486, 'max_depth': 10, 'criterion': 'entropy', 'bootstrap': True} \n",
            "\n",
            "INFO:deepmol.log:\n",
            " <function accuracy_score at 0x7aa7b7565120>: 0.783631 (0.032338) with: {'n_estimators': 276, 'min_samples_split': 14, 'min_samples_leaf': 16, 'max_features': 0.3448302985827517, 'max_depth': 56, 'criterion': 'gini', 'bootstrap': True} \n",
            "\n",
            "INFO:deepmol.log:Fitting best model!\n",
            "INFO:deepmol.log:SklearnModel(mode='classification',\n",
            "             model=RandomForestClassifier(bootstrap=False, max_depth=59,\n",
            "                                          max_features=0.291033313095595,\n",
            "                                          min_samples_leaf=7,\n",
            "                                          min_samples_split=14,\n",
            "                                          n_estimators=291),\n",
            "             model_dir='/tmp/tmpjw98gs6w')\n"
          ]
        },
        {
          "output_type": "execute_result",
          "data": {
            "text/plain": [
              "<deepmol.pipeline.pipeline.Pipeline at 0x7aa63f3cb710>"
            ]
          },
          "metadata": {},
          "execution_count": 16
        }
      ]
    },
    {
      "cell_type": "code",
      "source": [
        "loader = CSVLoader('test.csv',\n",
        "                   smiles_field='Drug',\n",
        "                   labels_fields=['Y'],\n",
        "                   mode='classification')\n",
        "test_dataset = loader.create_dataset(sep=\",\")\n",
        "\n",
        "predictions = pipeline_descriptors.predict(test_dataset)\n",
        "accuracy_descriptors_deepmol = accuracy_score(test_dataset.y, predictions)\n",
        "accuracy_descriptors_deepmol"
      ],
      "metadata": {
        "colab": {
          "base_uri": "https://localhost:8080/"
        },
        "id": "nqAQLyhVcwP4",
        "outputId": "b8d85ff5-7fcf-4f09-8f48-1d97f53c4d24"
      },
      "execution_count": null,
      "outputs": [
        {
          "output_type": "stream",
          "name": "stderr",
          "text": [
            "TwoDimensionDescriptors: 100%|██████████| 192/192 [00:03<00:00, 60.08it/s]\n"
          ]
        },
        {
          "output_type": "execute_result",
          "data": {
            "text/plain": [
              "0.78125"
            ]
          },
          "metadata": {},
          "execution_count": 17
        }
      ]
    },
    {
      "cell_type": "markdown",
      "source": [
        "# Now use DeepMol AutoML and compare with your models"
      ],
      "metadata": {
        "id": "Bc5A6KaBQcM4"
      }
    },
    {
      "cell_type": "code",
      "source": [
        "from deepmol.loaders import CSVLoader\n",
        "from deepmol.metrics import Metric\n",
        "from deepmol.pipeline_optimization import PipelineOptimization\n",
        "from deepmol.splitters import RandomSplitter\n",
        "from sklearn.metrics import accuracy_score\n",
        "import optuna\n",
        "\n",
        "# LOAD THE DATA\n",
        "loader = CSVLoader('train.csv',\n",
        "                   smiles_field='Drug',\n",
        "                   labels_fields=['Y'],\n",
        "                   mode='classification')\n",
        "train_dataset = loader.create_dataset(sep=\",\")\n",
        "\n",
        "loader = CSVLoader('val.csv',\n",
        "                   smiles_field='Drug',\n",
        "                   labels_fields=['Y'],\n",
        "                   mode='classification')\n",
        "validation_dataset = loader.create_dataset(sep=\",\")\n",
        "\n",
        "# OPTIMIZE THE PIPELINE\n",
        "po = PipelineOptimization(direction='maximize', study_name='oral_bioavailability', sampler=optuna.samplers.TPESampler(seed=42),\n",
        "                          storage='sqlite:///my_experience.db')\n",
        "metric = Metric(accuracy_score)\n",
        "po.optimize(train_dataset=train_dataset, test_dataset=validation_dataset, objective_steps='sklearn',\n",
        "            metric=metric, n_trials=10, data=train_dataset, save_top_n=2, trial_timeout=60)"
      ],
      "metadata": {
        "id": "MwypPKDwRSBa"
      },
      "execution_count": null,
      "outputs": []
    },
    {
      "cell_type": "code",
      "source": [
        "# LOAD THE DATA\n",
        "loader = CSVLoader('test.csv',\n",
        "                   smiles_field='Drug',\n",
        "                   labels_fields=['Y'],\n",
        "                   mode='classification')\n",
        "test_dataset = loader.create_dataset(sep=\",\")\n",
        "\n",
        "predictions = po.best_pipeline.predict(test_dataset)\n",
        "\n",
        "accuracy_score(test_dataset.y, predictions)"
      ],
      "metadata": {
        "colab": {
          "base_uri": "https://localhost:8080/"
        },
        "id": "KVxwwD1jQEBP",
        "outputId": "cb675e0e-1ba2-4f43-9101-d16218f8eee0"
      },
      "execution_count": null,
      "outputs": [
        {
          "output_type": "stream",
          "name": "stderr",
          "text": [
            "BasicStandardizer:   0%|          | 0/192 [00:00<?, ?it/s]\n",
            "NPClassifierFP:   0%|          | 0/192 [00:00<?, ?it/s]\n"
          ]
        },
        {
          "output_type": "execute_result",
          "data": {
            "text/plain": [
              "0.7291666666666666"
            ]
          },
          "metadata": {},
          "execution_count": 28
        }
      ]
    },
    {
      "cell_type": "markdown",
      "source": [
        "# Choose one of the models and make predictions for a larger dataset"
      ],
      "metadata": {
        "id": "OmyTpQPIm04Y"
      }
    },
    {
      "cell_type": "code",
      "source": [
        "!wget -O coconut_dataset.csv --no-check-certificate \"https://docs.google.com/uc?export=download&id=1csWReIE49fUdLrv7LHYFE7AUrxIJ9EAs\""
      ],
      "metadata": {
        "colab": {
          "base_uri": "https://localhost:8080/"
        },
        "id": "qmev637TnG6h",
        "outputId": "07aef7da-73ce-44b6-abc6-0e9b2b8356ad"
      },
      "execution_count": null,
      "outputs": [
        {
          "output_type": "stream",
          "name": "stdout",
          "text": [
            "--2025-03-30 12:33:43--  https://docs.google.com/uc?export=download&id=1csWReIE49fUdLrv7LHYFE7AUrxIJ9EAs\n",
            "Resolving docs.google.com (docs.google.com)... 173.194.210.138, 173.194.210.101, 173.194.210.100, ...\n",
            "Connecting to docs.google.com (docs.google.com)|173.194.210.138|:443... connected.\n",
            "HTTP request sent, awaiting response... 303 See Other\n",
            "Location: https://drive.usercontent.google.com/download?id=1csWReIE49fUdLrv7LHYFE7AUrxIJ9EAs&export=download [following]\n",
            "--2025-03-30 12:33:43--  https://drive.usercontent.google.com/download?id=1csWReIE49fUdLrv7LHYFE7AUrxIJ9EAs&export=download\n",
            "Resolving drive.usercontent.google.com (drive.usercontent.google.com)... 74.125.141.132, 2607:f8b0:400c:c06::84\n",
            "Connecting to drive.usercontent.google.com (drive.usercontent.google.com)|74.125.141.132|:443... connected.\n",
            "HTTP request sent, awaiting response... 200 OK\n",
            "Length: 15976313 (15M) [application/octet-stream]\n",
            "Saving to: ‘coconut_dataset.csv’\n",
            "\n",
            "coconut_dataset.csv 100%[===================>]  15.24M  56.4MB/s    in 0.3s    \n",
            "\n",
            "2025-03-30 12:33:50 (56.4 MB/s) - ‘coconut_dataset.csv’ saved [15976313/15976313]\n",
            "\n"
          ]
        }
      ]
    },
    {
      "cell_type": "code",
      "source": [
        "import pandas as pd\n",
        "\n",
        "coconut_dataset = pd.read_csv(\"coconut_dataset.csv\")\n",
        "coconut_dataset"
      ],
      "metadata": {
        "colab": {
          "base_uri": "https://localhost:8080/",
          "height": 669
        },
        "id": "qsXNJl1CnPF4",
        "outputId": "20d9fc46-d8c2-457f-c485-d111e7760736"
      },
      "execution_count": null,
      "outputs": [
        {
          "output_type": "execute_result",
          "data": {
            "text/plain": [
              "           id    identifier   \n",
              "0      675225  CNP0194087.3  \\\n",
              "1       19839  CNP0077749.0   \n",
              "2      200427  CNP0299490.1   \n",
              "3      209956  CNP0387685.0   \n",
              "4      223682  CNP0375958.0   \n",
              "...       ...           ...   \n",
              "19994  210642  CNP0387086.0   \n",
              "19995  210670  CNP0387128.1   \n",
              "19996  210694  CNP0141924.0   \n",
              "19997  210762  CNP0230430.0   \n",
              "19998  210800  CNP0338566.0   \n",
              "\n",
              "                                        canonical_smiles   \n",
              "0      C=C1C(=O)O[C@@H]2[C@H]3C(C)=C(O)C(=O)[C@H]3[C@...  \\\n",
              "1                                     C=NN1OC=C2N=CC=C21   \n",
              "2      COCCCNC(=O)C1=CC=CC=C1N1C(=O)N2CCC3=C(NC4=CC=C...   \n",
              "3      COC1=CC=C(OC)C(C=C2OC3=CC(OCC(=O)N4CCC(C(=O)O)...   \n",
              "4      COC1=CC(C2CC(=O)OC3=C2C(=O)N(CCC2=CC=C(O)C=C2)...   \n",
              "...                                                  ...   \n",
              "19994  COC1=CC=CC=C1N1C(=O)NC(O)=C(C2NCCC3=C2NC2=CC=C...   \n",
              "19995  COC1=CC=CC=C1CN1C(=O)[C@@H]2C(C(C)O)NC3(C(=O)N...   \n",
              "19996            O=C1C=C(C2=CC=CC=C2)C2=C(O)C=C(O)C=C2O1   \n",
              "19997   CC(=O)COC1=CC=C2C(=O)C(=CC3=CC=C4OCOC4=C3)OC2=C1   \n",
              "19998  CC1=CC=C(C2=NC(C(=O)NCC3CCCO3)=CC3=C2NC2=CC=CC...   \n",
              "\n",
              "                                          standard_inchi   \n",
              "0      InChI=1S/C20H24O7/c1-6-8(2)18(23)26-11-7-20(5,...  \\\n",
              "1      InChI=1S/C6H5N3O/c1-7-9-6-2-3-8-5(6)4-10-9/h2-...   \n",
              "2      InChI=1S/C26H28N4O5/c1-26-22-17(19-15-16(35-3)...   \n",
              "3      InChI=1S/C25H25NO8/c1-31-17-4-6-20(32-2)16(11-...   \n",
              "4      InChI=1S/C25H25NO7/c1-14-10-19-23(25(30)26(14)...   \n",
              "...                                                  ...   \n",
              "19994  InChI=1S/C22H20N4O4/c1-30-16-9-5-4-8-15(16)26-...   \n",
              "19995  InChI=1S/C23H23N3O5/c1-12(27)19-17-18(23(25-19...   \n",
              "19996  InChI=1S/C15H10O4/c16-10-6-12(17)15-11(9-4-2-1...   \n",
              "19997  InChI=1S/C19H14O6/c1-11(20)9-22-13-3-4-14-16(8...   \n",
              "19998  InChI=1S/C24H23N3O2/c1-15-8-10-16(11-9-15)22-2...   \n",
              "\n",
              "                standard_inchi_key   \n",
              "0      PTQURJSSVZYXNH-QICRIBIQSA-N  \\\n",
              "1      BGHWULUNNVIRCL-UHFFFAOYSA-N   \n",
              "2      XDZXPZIASBYJFE-SANMLTNESA-N   \n",
              "3      LRPGQHXRHMSCMB-UHFFFAOYSA-N   \n",
              "4      RTTYADRUJGDRJY-UHFFFAOYSA-N   \n",
              "...                            ...   \n",
              "19994  HSPFURMAJHHXPC-UHFFFAOYSA-N   \n",
              "19995  KFVSZFOJGLIEBA-KLFHCSGLSA-N   \n",
              "19996  HUQKUJNSVHEHIH-UHFFFAOYSA-N   \n",
              "19997  DUOJKHPJQQSIOJ-UHFFFAOYSA-N   \n",
              "19998  WYUBBSNEBJLQEC-UHFFFAOYSA-N   \n",
              "\n",
              "                                                    name   \n",
              "0                                                    NaN  \\\n",
              "1                                                    NaN   \n",
              "2                                              STL537573   \n",
              "3                                                    NaN   \n",
              "4                                              STL544873   \n",
              "...                                                  ...   \n",
              "19994  6-hydroxy-3-(2-methoxyphenyl)-5-(2,3,4,9-tetra...   \n",
              "19995                                          STL531072   \n",
              "19996                                          7758-73-8   \n",
              "19997                                                NaN   \n",
              "19998                                       MLS001140556   \n",
              "\n",
              "                                              iupac_name  annotation_level   \n",
              "0      [(3~{a}~{R},4~{R},6~{R},6~{a}~{R},9~{a}~{R},9~...                 2  \\\n",
              "1            ~{N}-pyrrolo[3,2-c]isoxazol-1-ylmethanimine                 1   \n",
              "2      2-[(2~{S})-12-methoxy-2-methyl-3,5-dioxo-4,6,1...                 2   \n",
              "3      1-[2-[2-[(2,5-dimethoxyphenyl)methylene]-3-oxo...                 2   \n",
              "4      4-(4-hydroxy-3,5-dimethoxy-phenyl)-6-[2-(4-hyd...                 3   \n",
              "...                                                  ...               ...   \n",
              "19994  6-hydroxy-3-(2-methoxyphenyl)-5-(2,3,4,9-tetra...                 1   \n",
              "19995  (3~{a}~{R},6~{a}~{S})-1-(1-hydroxyethyl)-5-[(2...                 2   \n",
              "19996               5,7-dihydroxy-4-phenyl-chromen-2-one                 3   \n",
              "19997  6-acetonyloxy-2-(1,3-benzodioxol-5-ylmethylene...                 1   \n",
              "19998  1-(p-tolyl)-~{N}-(tetrahydrofuran-2-ylmethyl)-...                 2   \n",
              "\n",
              "       total_atom_count  heavy_atom_count  ...   \n",
              "0                    51                27  ...  \\\n",
              "1                    15                10  ...   \n",
              "2                    63                35  ...   \n",
              "3                    59                34  ...   \n",
              "4                    58                33  ...   \n",
              "...                 ...               ...  ...   \n",
              "19994                50                30  ...   \n",
              "19995                54                31  ...   \n",
              "19996                29                19  ...   \n",
              "19997                39                25  ...   \n",
              "19998                52                29  ...   \n",
              "\n",
              "                                  murcko_framework  np_likeness   \n",
              "0                             O1CCC2CCCC3CC=CC3C12         2.99  \\\n",
              "1                                  N1=CC=C2NOC=C12        -0.58   \n",
              "2            c1ccc(cc1)N2CN3CCc4c5ccccc5[nH]c4C3C2        -0.64   \n",
              "3             O1c2cc(OCCN3CCCCC3)ccc2CC1=Cc4ccccc4        -0.76   \n",
              "4           O1C=2C=CN(CC2C(c3ccccc3)CC1)CCc4ccccc4         0.11   \n",
              "...                                            ...          ...   \n",
              "19994  c1ccc(cc1)N2CNC=C(C2)C3NCCc4c5ccccc5[nH]c43        -0.23   \n",
              "19995        c1ccc(cc1)CN2CC3CNC4(c5ccccc5NC4)C3C2        -0.27   \n",
              "19996                    O1c2ccccc2C(=CC1)c3ccccc3         0.92   \n",
              "19997                 O1c2ccccc2CC1=Cc3ccc4OCOc4c3        -0.22   \n",
              "19998  n1c(cc2c3ccccc3[nH]c2c1-c4ccccc4)CNCC5OCCC5        -0.56   \n",
              "\n",
              "                         chemical_class                    chemical_sub_class   \n",
              "0                         Prenol lipids                      Terpene lactones  \\\n",
              "1                                Azoles                            Isoxazoles   \n",
              "2               Indoles and derivatives                         Pyridoindoles   \n",
              "3                     Aurone flavonoids                     Aurone flavonoids   \n",
              "4                       Pyranopyridines                       Pyranopyridines   \n",
              "...                                 ...                                   ...   \n",
              "19994                 Harmala alkaloids                     Harmala alkaloids   \n",
              "19995  Carboxylic acids and derivatives  Amino acids, peptides, and analogues   \n",
              "19996                     Neoflavonoids                           Neoflavones   \n",
              "19997                 Aurone flavonoids                     Aurone flavonoids   \n",
              "19998                 Harmala alkaloids                     Harmala alkaloids   \n",
              "\n",
              "                   chemical_super_class  direct_parent_classification   \n",
              "0       Lipids and lipid-like molecules  Guaianolides and derivatives  \\\n",
              "1          Organoheterocyclic compounds                    Isoxazoles   \n",
              "2          Organoheterocyclic compounds               Beta carbolines   \n",
              "3      Phenylpropanoids and polyketides             Aurone flavonoids   \n",
              "4          Organoheterocyclic compounds               Pyranopyridines   \n",
              "...                                 ...                           ...   \n",
              "19994         Alkaloids and derivatives             Harmala alkaloids   \n",
              "19995     Organic acids and derivatives             Alpha amino acids   \n",
              "19996  Phenylpropanoids and polyketides                   Neoflavones   \n",
              "19997  Phenylpropanoids and polyketides             Aurone flavonoids   \n",
              "19998         Alkaloids and derivatives             Harmala alkaloids   \n",
              "\n",
              "                 np_classifier_pathway  np_classifier_superclass   \n",
              "0                           Terpenoids          Sesquiterpenoids  \\\n",
              "1                            Alkaloids                       NaN   \n",
              "2                            Alkaloids      Tryptophan alkaloids   \n",
              "3                                  NaN                       NaN   \n",
              "4                                  NaN                       NaN   \n",
              "...                                ...                       ...   \n",
              "19994                        Alkaloids      Tryptophan alkaloids   \n",
              "19995                        Alkaloids      Tryptophan alkaloids   \n",
              "19996  Shikimates and Phenylpropanoids                Flavonoids   \n",
              "19997  Shikimates and Phenylpropanoids                Flavonoids   \n",
              "19998                        Alkaloids      Tryptophan alkaloids   \n",
              "\n",
              "             np_classifier_class  np_classifier_is_glycoside  \n",
              "0       Guaiane sesquiterpenoids                       False  \n",
              "1                            NaN                       False  \n",
              "2            Carboline alkaloids                       False  \n",
              "3                            NaN                       False  \n",
              "4                            NaN                       False  \n",
              "...                          ...                         ...  \n",
              "19994        Carboline alkaloids                       False  \n",
              "19995  Simple oxindole alkaloids                       False  \n",
              "19996              Neoflavonoids                       False  \n",
              "19997                    Aurones                       False  \n",
              "19998        Carboline alkaloids                       False  \n",
              "\n",
              "[19999 rows x 40 columns]"
            ],
            "text/html": [
              "\n",
              "  <div id=\"df-67701e38-9c10-4509-a4e2-34853f2860e8\" class=\"colab-df-container\">\n",
              "    <div>\n",
              "<style scoped>\n",
              "    .dataframe tbody tr th:only-of-type {\n",
              "        vertical-align: middle;\n",
              "    }\n",
              "\n",
              "    .dataframe tbody tr th {\n",
              "        vertical-align: top;\n",
              "    }\n",
              "\n",
              "    .dataframe thead th {\n",
              "        text-align: right;\n",
              "    }\n",
              "</style>\n",
              "<table border=\"1\" class=\"dataframe\">\n",
              "  <thead>\n",
              "    <tr style=\"text-align: right;\">\n",
              "      <th></th>\n",
              "      <th>id</th>\n",
              "      <th>identifier</th>\n",
              "      <th>canonical_smiles</th>\n",
              "      <th>standard_inchi</th>\n",
              "      <th>standard_inchi_key</th>\n",
              "      <th>name</th>\n",
              "      <th>iupac_name</th>\n",
              "      <th>annotation_level</th>\n",
              "      <th>total_atom_count</th>\n",
              "      <th>heavy_atom_count</th>\n",
              "      <th>...</th>\n",
              "      <th>murcko_framework</th>\n",
              "      <th>np_likeness</th>\n",
              "      <th>chemical_class</th>\n",
              "      <th>chemical_sub_class</th>\n",
              "      <th>chemical_super_class</th>\n",
              "      <th>direct_parent_classification</th>\n",
              "      <th>np_classifier_pathway</th>\n",
              "      <th>np_classifier_superclass</th>\n",
              "      <th>np_classifier_class</th>\n",
              "      <th>np_classifier_is_glycoside</th>\n",
              "    </tr>\n",
              "  </thead>\n",
              "  <tbody>\n",
              "    <tr>\n",
              "      <th>0</th>\n",
              "      <td>675225</td>\n",
              "      <td>CNP0194087.3</td>\n",
              "      <td>C=C1C(=O)O[C@@H]2[C@H]3C(C)=C(O)C(=O)[C@H]3[C@...</td>\n",
              "      <td>InChI=1S/C20H24O7/c1-6-8(2)18(23)26-11-7-20(5,...</td>\n",
              "      <td>PTQURJSSVZYXNH-QICRIBIQSA-N</td>\n",
              "      <td>NaN</td>\n",
              "      <td>[(3~{a}~{R},4~{R},6~{R},6~{a}~{R},9~{a}~{R},9~...</td>\n",
              "      <td>2</td>\n",
              "      <td>51</td>\n",
              "      <td>27</td>\n",
              "      <td>...</td>\n",
              "      <td>O1CCC2CCCC3CC=CC3C12</td>\n",
              "      <td>2.99</td>\n",
              "      <td>Prenol lipids</td>\n",
              "      <td>Terpene lactones</td>\n",
              "      <td>Lipids and lipid-like molecules</td>\n",
              "      <td>Guaianolides and derivatives</td>\n",
              "      <td>Terpenoids</td>\n",
              "      <td>Sesquiterpenoids</td>\n",
              "      <td>Guaiane sesquiterpenoids</td>\n",
              "      <td>False</td>\n",
              "    </tr>\n",
              "    <tr>\n",
              "      <th>1</th>\n",
              "      <td>19839</td>\n",
              "      <td>CNP0077749.0</td>\n",
              "      <td>C=NN1OC=C2N=CC=C21</td>\n",
              "      <td>InChI=1S/C6H5N3O/c1-7-9-6-2-3-8-5(6)4-10-9/h2-...</td>\n",
              "      <td>BGHWULUNNVIRCL-UHFFFAOYSA-N</td>\n",
              "      <td>NaN</td>\n",
              "      <td>~{N}-pyrrolo[3,2-c]isoxazol-1-ylmethanimine</td>\n",
              "      <td>1</td>\n",
              "      <td>15</td>\n",
              "      <td>10</td>\n",
              "      <td>...</td>\n",
              "      <td>N1=CC=C2NOC=C12</td>\n",
              "      <td>-0.58</td>\n",
              "      <td>Azoles</td>\n",
              "      <td>Isoxazoles</td>\n",
              "      <td>Organoheterocyclic compounds</td>\n",
              "      <td>Isoxazoles</td>\n",
              "      <td>Alkaloids</td>\n",
              "      <td>NaN</td>\n",
              "      <td>NaN</td>\n",
              "      <td>False</td>\n",
              "    </tr>\n",
              "    <tr>\n",
              "      <th>2</th>\n",
              "      <td>200427</td>\n",
              "      <td>CNP0299490.1</td>\n",
              "      <td>COCCCNC(=O)C1=CC=CC=C1N1C(=O)N2CCC3=C(NC4=CC=C...</td>\n",
              "      <td>InChI=1S/C26H28N4O5/c1-26-22-17(19-15-16(35-3)...</td>\n",
              "      <td>XDZXPZIASBYJFE-SANMLTNESA-N</td>\n",
              "      <td>STL537573</td>\n",
              "      <td>2-[(2~{S})-12-methoxy-2-methyl-3,5-dioxo-4,6,1...</td>\n",
              "      <td>2</td>\n",
              "      <td>63</td>\n",
              "      <td>35</td>\n",
              "      <td>...</td>\n",
              "      <td>c1ccc(cc1)N2CN3CCc4c5ccccc5[nH]c4C3C2</td>\n",
              "      <td>-0.64</td>\n",
              "      <td>Indoles and derivatives</td>\n",
              "      <td>Pyridoindoles</td>\n",
              "      <td>Organoheterocyclic compounds</td>\n",
              "      <td>Beta carbolines</td>\n",
              "      <td>Alkaloids</td>\n",
              "      <td>Tryptophan alkaloids</td>\n",
              "      <td>Carboline alkaloids</td>\n",
              "      <td>False</td>\n",
              "    </tr>\n",
              "    <tr>\n",
              "      <th>3</th>\n",
              "      <td>209956</td>\n",
              "      <td>CNP0387685.0</td>\n",
              "      <td>COC1=CC=C(OC)C(C=C2OC3=CC(OCC(=O)N4CCC(C(=O)O)...</td>\n",
              "      <td>InChI=1S/C25H25NO8/c1-31-17-4-6-20(32-2)16(11-...</td>\n",
              "      <td>LRPGQHXRHMSCMB-UHFFFAOYSA-N</td>\n",
              "      <td>NaN</td>\n",
              "      <td>1-[2-[2-[(2,5-dimethoxyphenyl)methylene]-3-oxo...</td>\n",
              "      <td>2</td>\n",
              "      <td>59</td>\n",
              "      <td>34</td>\n",
              "      <td>...</td>\n",
              "      <td>O1c2cc(OCCN3CCCCC3)ccc2CC1=Cc4ccccc4</td>\n",
              "      <td>-0.76</td>\n",
              "      <td>Aurone flavonoids</td>\n",
              "      <td>Aurone flavonoids</td>\n",
              "      <td>Phenylpropanoids and polyketides</td>\n",
              "      <td>Aurone flavonoids</td>\n",
              "      <td>NaN</td>\n",
              "      <td>NaN</td>\n",
              "      <td>NaN</td>\n",
              "      <td>False</td>\n",
              "    </tr>\n",
              "    <tr>\n",
              "      <th>4</th>\n",
              "      <td>223682</td>\n",
              "      <td>CNP0375958.0</td>\n",
              "      <td>COC1=CC(C2CC(=O)OC3=C2C(=O)N(CCC2=CC=C(O)C=C2)...</td>\n",
              "      <td>InChI=1S/C25H25NO7/c1-14-10-19-23(25(30)26(14)...</td>\n",
              "      <td>RTTYADRUJGDRJY-UHFFFAOYSA-N</td>\n",
              "      <td>STL544873</td>\n",
              "      <td>4-(4-hydroxy-3,5-dimethoxy-phenyl)-6-[2-(4-hyd...</td>\n",
              "      <td>3</td>\n",
              "      <td>58</td>\n",
              "      <td>33</td>\n",
              "      <td>...</td>\n",
              "      <td>O1C=2C=CN(CC2C(c3ccccc3)CC1)CCc4ccccc4</td>\n",
              "      <td>0.11</td>\n",
              "      <td>Pyranopyridines</td>\n",
              "      <td>Pyranopyridines</td>\n",
              "      <td>Organoheterocyclic compounds</td>\n",
              "      <td>Pyranopyridines</td>\n",
              "      <td>NaN</td>\n",
              "      <td>NaN</td>\n",
              "      <td>NaN</td>\n",
              "      <td>False</td>\n",
              "    </tr>\n",
              "    <tr>\n",
              "      <th>...</th>\n",
              "      <td>...</td>\n",
              "      <td>...</td>\n",
              "      <td>...</td>\n",
              "      <td>...</td>\n",
              "      <td>...</td>\n",
              "      <td>...</td>\n",
              "      <td>...</td>\n",
              "      <td>...</td>\n",
              "      <td>...</td>\n",
              "      <td>...</td>\n",
              "      <td>...</td>\n",
              "      <td>...</td>\n",
              "      <td>...</td>\n",
              "      <td>...</td>\n",
              "      <td>...</td>\n",
              "      <td>...</td>\n",
              "      <td>...</td>\n",
              "      <td>...</td>\n",
              "      <td>...</td>\n",
              "      <td>...</td>\n",
              "      <td>...</td>\n",
              "    </tr>\n",
              "    <tr>\n",
              "      <th>19994</th>\n",
              "      <td>210642</td>\n",
              "      <td>CNP0387086.0</td>\n",
              "      <td>COC1=CC=CC=C1N1C(=O)NC(O)=C(C2NCCC3=C2NC2=CC=C...</td>\n",
              "      <td>InChI=1S/C22H20N4O4/c1-30-16-9-5-4-8-15(16)26-...</td>\n",
              "      <td>HSPFURMAJHHXPC-UHFFFAOYSA-N</td>\n",
              "      <td>6-hydroxy-3-(2-methoxyphenyl)-5-(2,3,4,9-tetra...</td>\n",
              "      <td>6-hydroxy-3-(2-methoxyphenyl)-5-(2,3,4,9-tetra...</td>\n",
              "      <td>1</td>\n",
              "      <td>50</td>\n",
              "      <td>30</td>\n",
              "      <td>...</td>\n",
              "      <td>c1ccc(cc1)N2CNC=C(C2)C3NCCc4c5ccccc5[nH]c43</td>\n",
              "      <td>-0.23</td>\n",
              "      <td>Harmala alkaloids</td>\n",
              "      <td>Harmala alkaloids</td>\n",
              "      <td>Alkaloids and derivatives</td>\n",
              "      <td>Harmala alkaloids</td>\n",
              "      <td>Alkaloids</td>\n",
              "      <td>Tryptophan alkaloids</td>\n",
              "      <td>Carboline alkaloids</td>\n",
              "      <td>False</td>\n",
              "    </tr>\n",
              "    <tr>\n",
              "      <th>19995</th>\n",
              "      <td>210670</td>\n",
              "      <td>CNP0387128.1</td>\n",
              "      <td>COC1=CC=CC=C1CN1C(=O)[C@@H]2C(C(C)O)NC3(C(=O)N...</td>\n",
              "      <td>InChI=1S/C23H23N3O5/c1-12(27)19-17-18(23(25-19...</td>\n",
              "      <td>KFVSZFOJGLIEBA-KLFHCSGLSA-N</td>\n",
              "      <td>STL531072</td>\n",
              "      <td>(3~{a}~{R},6~{a}~{S})-1-(1-hydroxyethyl)-5-[(2...</td>\n",
              "      <td>2</td>\n",
              "      <td>54</td>\n",
              "      <td>31</td>\n",
              "      <td>...</td>\n",
              "      <td>c1ccc(cc1)CN2CC3CNC4(c5ccccc5NC4)C3C2</td>\n",
              "      <td>-0.27</td>\n",
              "      <td>Carboxylic acids and derivatives</td>\n",
              "      <td>Amino acids, peptides, and analogues</td>\n",
              "      <td>Organic acids and derivatives</td>\n",
              "      <td>Alpha amino acids</td>\n",
              "      <td>Alkaloids</td>\n",
              "      <td>Tryptophan alkaloids</td>\n",
              "      <td>Simple oxindole alkaloids</td>\n",
              "      <td>False</td>\n",
              "    </tr>\n",
              "    <tr>\n",
              "      <th>19996</th>\n",
              "      <td>210694</td>\n",
              "      <td>CNP0141924.0</td>\n",
              "      <td>O=C1C=C(C2=CC=CC=C2)C2=C(O)C=C(O)C=C2O1</td>\n",
              "      <td>InChI=1S/C15H10O4/c16-10-6-12(17)15-11(9-4-2-1...</td>\n",
              "      <td>HUQKUJNSVHEHIH-UHFFFAOYSA-N</td>\n",
              "      <td>7758-73-8</td>\n",
              "      <td>5,7-dihydroxy-4-phenyl-chromen-2-one</td>\n",
              "      <td>3</td>\n",
              "      <td>29</td>\n",
              "      <td>19</td>\n",
              "      <td>...</td>\n",
              "      <td>O1c2ccccc2C(=CC1)c3ccccc3</td>\n",
              "      <td>0.92</td>\n",
              "      <td>Neoflavonoids</td>\n",
              "      <td>Neoflavones</td>\n",
              "      <td>Phenylpropanoids and polyketides</td>\n",
              "      <td>Neoflavones</td>\n",
              "      <td>Shikimates and Phenylpropanoids</td>\n",
              "      <td>Flavonoids</td>\n",
              "      <td>Neoflavonoids</td>\n",
              "      <td>False</td>\n",
              "    </tr>\n",
              "    <tr>\n",
              "      <th>19997</th>\n",
              "      <td>210762</td>\n",
              "      <td>CNP0230430.0</td>\n",
              "      <td>CC(=O)COC1=CC=C2C(=O)C(=CC3=CC=C4OCOC4=C3)OC2=C1</td>\n",
              "      <td>InChI=1S/C19H14O6/c1-11(20)9-22-13-3-4-14-16(8...</td>\n",
              "      <td>DUOJKHPJQQSIOJ-UHFFFAOYSA-N</td>\n",
              "      <td>NaN</td>\n",
              "      <td>6-acetonyloxy-2-(1,3-benzodioxol-5-ylmethylene...</td>\n",
              "      <td>1</td>\n",
              "      <td>39</td>\n",
              "      <td>25</td>\n",
              "      <td>...</td>\n",
              "      <td>O1c2ccccc2CC1=Cc3ccc4OCOc4c3</td>\n",
              "      <td>-0.22</td>\n",
              "      <td>Aurone flavonoids</td>\n",
              "      <td>Aurone flavonoids</td>\n",
              "      <td>Phenylpropanoids and polyketides</td>\n",
              "      <td>Aurone flavonoids</td>\n",
              "      <td>Shikimates and Phenylpropanoids</td>\n",
              "      <td>Flavonoids</td>\n",
              "      <td>Aurones</td>\n",
              "      <td>False</td>\n",
              "    </tr>\n",
              "    <tr>\n",
              "      <th>19998</th>\n",
              "      <td>210800</td>\n",
              "      <td>CNP0338566.0</td>\n",
              "      <td>CC1=CC=C(C2=NC(C(=O)NCC3CCCO3)=CC3=C2NC2=CC=CC...</td>\n",
              "      <td>InChI=1S/C24H23N3O2/c1-15-8-10-16(11-9-15)22-2...</td>\n",
              "      <td>WYUBBSNEBJLQEC-UHFFFAOYSA-N</td>\n",
              "      <td>MLS001140556</td>\n",
              "      <td>1-(p-tolyl)-~{N}-(tetrahydrofuran-2-ylmethyl)-...</td>\n",
              "      <td>2</td>\n",
              "      <td>52</td>\n",
              "      <td>29</td>\n",
              "      <td>...</td>\n",
              "      <td>n1c(cc2c3ccccc3[nH]c2c1-c4ccccc4)CNCC5OCCC5</td>\n",
              "      <td>-0.56</td>\n",
              "      <td>Harmala alkaloids</td>\n",
              "      <td>Harmala alkaloids</td>\n",
              "      <td>Alkaloids and derivatives</td>\n",
              "      <td>Harmala alkaloids</td>\n",
              "      <td>Alkaloids</td>\n",
              "      <td>Tryptophan alkaloids</td>\n",
              "      <td>Carboline alkaloids</td>\n",
              "      <td>False</td>\n",
              "    </tr>\n",
              "  </tbody>\n",
              "</table>\n",
              "<p>19999 rows × 40 columns</p>\n",
              "</div>\n",
              "    <div class=\"colab-df-buttons\">\n",
              "\n",
              "  <div class=\"colab-df-container\">\n",
              "    <button class=\"colab-df-convert\" onclick=\"convertToInteractive('df-67701e38-9c10-4509-a4e2-34853f2860e8')\"\n",
              "            title=\"Convert this dataframe to an interactive table.\"\n",
              "            style=\"display:none;\">\n",
              "\n",
              "  <svg xmlns=\"http://www.w3.org/2000/svg\" height=\"24px\" viewBox=\"0 -960 960 960\">\n",
              "    <path d=\"M120-120v-720h720v720H120Zm60-500h600v-160H180v160Zm220 220h160v-160H400v160Zm0 220h160v-160H400v160ZM180-400h160v-160H180v160Zm440 0h160v-160H620v160ZM180-180h160v-160H180v160Zm440 0h160v-160H620v160Z\"/>\n",
              "  </svg>\n",
              "    </button>\n",
              "\n",
              "  <style>\n",
              "    .colab-df-container {\n",
              "      display:flex;\n",
              "      gap: 12px;\n",
              "    }\n",
              "\n",
              "    .colab-df-convert {\n",
              "      background-color: #E8F0FE;\n",
              "      border: none;\n",
              "      border-radius: 50%;\n",
              "      cursor: pointer;\n",
              "      display: none;\n",
              "      fill: #1967D2;\n",
              "      height: 32px;\n",
              "      padding: 0 0 0 0;\n",
              "      width: 32px;\n",
              "    }\n",
              "\n",
              "    .colab-df-convert:hover {\n",
              "      background-color: #E2EBFA;\n",
              "      box-shadow: 0px 1px 2px rgba(60, 64, 67, 0.3), 0px 1px 3px 1px rgba(60, 64, 67, 0.15);\n",
              "      fill: #174EA6;\n",
              "    }\n",
              "\n",
              "    .colab-df-buttons div {\n",
              "      margin-bottom: 4px;\n",
              "    }\n",
              "\n",
              "    [theme=dark] .colab-df-convert {\n",
              "      background-color: #3B4455;\n",
              "      fill: #D2E3FC;\n",
              "    }\n",
              "\n",
              "    [theme=dark] .colab-df-convert:hover {\n",
              "      background-color: #434B5C;\n",
              "      box-shadow: 0px 1px 3px 1px rgba(0, 0, 0, 0.15);\n",
              "      filter: drop-shadow(0px 1px 2px rgba(0, 0, 0, 0.3));\n",
              "      fill: #FFFFFF;\n",
              "    }\n",
              "  </style>\n",
              "\n",
              "    <script>\n",
              "      const buttonEl =\n",
              "        document.querySelector('#df-67701e38-9c10-4509-a4e2-34853f2860e8 button.colab-df-convert');\n",
              "      buttonEl.style.display =\n",
              "        google.colab.kernel.accessAllowed ? 'block' : 'none';\n",
              "\n",
              "      async function convertToInteractive(key) {\n",
              "        const element = document.querySelector('#df-67701e38-9c10-4509-a4e2-34853f2860e8');\n",
              "        const dataTable =\n",
              "          await google.colab.kernel.invokeFunction('convertToInteractive',\n",
              "                                                    [key], {});\n",
              "        if (!dataTable) return;\n",
              "\n",
              "        const docLinkHtml = 'Like what you see? Visit the ' +\n",
              "          '<a target=\"_blank\" href=https://colab.research.google.com/notebooks/data_table.ipynb>data table notebook</a>'\n",
              "          + ' to learn more about interactive tables.';\n",
              "        element.innerHTML = '';\n",
              "        dataTable['output_type'] = 'display_data';\n",
              "        await google.colab.output.renderOutput(dataTable, element);\n",
              "        const docLink = document.createElement('div');\n",
              "        docLink.innerHTML = docLinkHtml;\n",
              "        element.appendChild(docLink);\n",
              "      }\n",
              "    </script>\n",
              "  </div>\n",
              "\n",
              "\n",
              "<div id=\"df-18374259-c9ff-4fbf-830f-cb503eb321cc\">\n",
              "  <button class=\"colab-df-quickchart\" onclick=\"quickchart('df-18374259-c9ff-4fbf-830f-cb503eb321cc')\"\n",
              "            title=\"Suggest charts\"\n",
              "            style=\"display:none;\">\n",
              "\n",
              "<svg xmlns=\"http://www.w3.org/2000/svg\" height=\"24px\"viewBox=\"0 0 24 24\"\n",
              "     width=\"24px\">\n",
              "    <g>\n",
              "        <path d=\"M19 3H5c-1.1 0-2 .9-2 2v14c0 1.1.9 2 2 2h14c1.1 0 2-.9 2-2V5c0-1.1-.9-2-2-2zM9 17H7v-7h2v7zm4 0h-2V7h2v10zm4 0h-2v-4h2v4z\"/>\n",
              "    </g>\n",
              "</svg>\n",
              "  </button>\n",
              "\n",
              "<style>\n",
              "  .colab-df-quickchart {\n",
              "      --bg-color: #E8F0FE;\n",
              "      --fill-color: #1967D2;\n",
              "      --hover-bg-color: #E2EBFA;\n",
              "      --hover-fill-color: #174EA6;\n",
              "      --disabled-fill-color: #AAA;\n",
              "      --disabled-bg-color: #DDD;\n",
              "  }\n",
              "\n",
              "  [theme=dark] .colab-df-quickchart {\n",
              "      --bg-color: #3B4455;\n",
              "      --fill-color: #D2E3FC;\n",
              "      --hover-bg-color: #434B5C;\n",
              "      --hover-fill-color: #FFFFFF;\n",
              "      --disabled-bg-color: #3B4455;\n",
              "      --disabled-fill-color: #666;\n",
              "  }\n",
              "\n",
              "  .colab-df-quickchart {\n",
              "    background-color: var(--bg-color);\n",
              "    border: none;\n",
              "    border-radius: 50%;\n",
              "    cursor: pointer;\n",
              "    display: none;\n",
              "    fill: var(--fill-color);\n",
              "    height: 32px;\n",
              "    padding: 0;\n",
              "    width: 32px;\n",
              "  }\n",
              "\n",
              "  .colab-df-quickchart:hover {\n",
              "    background-color: var(--hover-bg-color);\n",
              "    box-shadow: 0 1px 2px rgba(60, 64, 67, 0.3), 0 1px 3px 1px rgba(60, 64, 67, 0.15);\n",
              "    fill: var(--button-hover-fill-color);\n",
              "  }\n",
              "\n",
              "  .colab-df-quickchart-complete:disabled,\n",
              "  .colab-df-quickchart-complete:disabled:hover {\n",
              "    background-color: var(--disabled-bg-color);\n",
              "    fill: var(--disabled-fill-color);\n",
              "    box-shadow: none;\n",
              "  }\n",
              "\n",
              "  .colab-df-spinner {\n",
              "    border: 2px solid var(--fill-color);\n",
              "    border-color: transparent;\n",
              "    border-bottom-color: var(--fill-color);\n",
              "    animation:\n",
              "      spin 1s steps(1) infinite;\n",
              "  }\n",
              "\n",
              "  @keyframes spin {\n",
              "    0% {\n",
              "      border-color: transparent;\n",
              "      border-bottom-color: var(--fill-color);\n",
              "      border-left-color: var(--fill-color);\n",
              "    }\n",
              "    20% {\n",
              "      border-color: transparent;\n",
              "      border-left-color: var(--fill-color);\n",
              "      border-top-color: var(--fill-color);\n",
              "    }\n",
              "    30% {\n",
              "      border-color: transparent;\n",
              "      border-left-color: var(--fill-color);\n",
              "      border-top-color: var(--fill-color);\n",
              "      border-right-color: var(--fill-color);\n",
              "    }\n",
              "    40% {\n",
              "      border-color: transparent;\n",
              "      border-right-color: var(--fill-color);\n",
              "      border-top-color: var(--fill-color);\n",
              "    }\n",
              "    60% {\n",
              "      border-color: transparent;\n",
              "      border-right-color: var(--fill-color);\n",
              "    }\n",
              "    80% {\n",
              "      border-color: transparent;\n",
              "      border-right-color: var(--fill-color);\n",
              "      border-bottom-color: var(--fill-color);\n",
              "    }\n",
              "    90% {\n",
              "      border-color: transparent;\n",
              "      border-bottom-color: var(--fill-color);\n",
              "    }\n",
              "  }\n",
              "</style>\n",
              "\n",
              "  <script>\n",
              "    async function quickchart(key) {\n",
              "      const quickchartButtonEl =\n",
              "        document.querySelector('#' + key + ' button');\n",
              "      quickchartButtonEl.disabled = true;  // To prevent multiple clicks.\n",
              "      quickchartButtonEl.classList.add('colab-df-spinner');\n",
              "      try {\n",
              "        const charts = await google.colab.kernel.invokeFunction(\n",
              "            'suggestCharts', [key], {});\n",
              "      } catch (error) {\n",
              "        console.error('Error during call to suggestCharts:', error);\n",
              "      }\n",
              "      quickchartButtonEl.classList.remove('colab-df-spinner');\n",
              "      quickchartButtonEl.classList.add('colab-df-quickchart-complete');\n",
              "    }\n",
              "    (() => {\n",
              "      let quickchartButtonEl =\n",
              "        document.querySelector('#df-18374259-c9ff-4fbf-830f-cb503eb321cc button');\n",
              "      quickchartButtonEl.style.display =\n",
              "        google.colab.kernel.accessAllowed ? 'block' : 'none';\n",
              "    })();\n",
              "  </script>\n",
              "</div>\n",
              "\n",
              "  <div id=\"id_2865d44d-30fe-4e49-a1e0-d28859871096\">\n",
              "    <style>\n",
              "      .colab-df-generate {\n",
              "        background-color: #E8F0FE;\n",
              "        border: none;\n",
              "        border-radius: 50%;\n",
              "        cursor: pointer;\n",
              "        display: none;\n",
              "        fill: #1967D2;\n",
              "        height: 32px;\n",
              "        padding: 0 0 0 0;\n",
              "        width: 32px;\n",
              "      }\n",
              "\n",
              "      .colab-df-generate:hover {\n",
              "        background-color: #E2EBFA;\n",
              "        box-shadow: 0px 1px 2px rgba(60, 64, 67, 0.3), 0px 1px 3px 1px rgba(60, 64, 67, 0.15);\n",
              "        fill: #174EA6;\n",
              "      }\n",
              "\n",
              "      [theme=dark] .colab-df-generate {\n",
              "        background-color: #3B4455;\n",
              "        fill: #D2E3FC;\n",
              "      }\n",
              "\n",
              "      [theme=dark] .colab-df-generate:hover {\n",
              "        background-color: #434B5C;\n",
              "        box-shadow: 0px 1px 3px 1px rgba(0, 0, 0, 0.15);\n",
              "        filter: drop-shadow(0px 1px 2px rgba(0, 0, 0, 0.3));\n",
              "        fill: #FFFFFF;\n",
              "      }\n",
              "    </style>\n",
              "    <button class=\"colab-df-generate\" onclick=\"generateWithVariable('coconut_dataset')\"\n",
              "            title=\"Generate code using this dataframe.\"\n",
              "            style=\"display:none;\">\n",
              "\n",
              "  <svg xmlns=\"http://www.w3.org/2000/svg\" height=\"24px\"viewBox=\"0 0 24 24\"\n",
              "       width=\"24px\">\n",
              "    <path d=\"M7,19H8.4L18.45,9,17,7.55,7,17.6ZM5,21V16.75L18.45,3.32a2,2,0,0,1,2.83,0l1.4,1.43a1.91,1.91,0,0,1,.58,1.4,1.91,1.91,0,0,1-.58,1.4L9.25,21ZM18.45,9,17,7.55Zm-12,3A5.31,5.31,0,0,0,4.9,8.1,5.31,5.31,0,0,0,1,6.5,5.31,5.31,0,0,0,4.9,4.9,5.31,5.31,0,0,0,6.5,1,5.31,5.31,0,0,0,8.1,4.9,5.31,5.31,0,0,0,12,6.5,5.46,5.46,0,0,0,6.5,12Z\"/>\n",
              "  </svg>\n",
              "    </button>\n",
              "    <script>\n",
              "      (() => {\n",
              "      const buttonEl =\n",
              "        document.querySelector('#id_2865d44d-30fe-4e49-a1e0-d28859871096 button.colab-df-generate');\n",
              "      buttonEl.style.display =\n",
              "        google.colab.kernel.accessAllowed ? 'block' : 'none';\n",
              "\n",
              "      buttonEl.onclick = () => {\n",
              "        google.colab.notebook.generateWithVariable('coconut_dataset');\n",
              "      }\n",
              "      })();\n",
              "    </script>\n",
              "  </div>\n",
              "\n",
              "    </div>\n",
              "  </div>\n"
            ],
            "application/vnd.google.colaboratory.intrinsic+json": {
              "type": "dataframe",
              "variable_name": "coconut_dataset"
            }
          },
          "metadata": {},
          "execution_count": 20
        }
      ]
    },
    {
      "cell_type": "code",
      "source": [
        "# LOAD THE DATA\n",
        "loader = CSVLoader('coconut_dataset.csv',\n",
        "                   smiles_field='canonical_smiles')\n",
        "coconut_dataset_deepmol_dataset = loader.create_dataset(sep=\",\")"
      ],
      "metadata": {
        "id": "wdP1ZgL2R-Uc"
      },
      "execution_count": null,
      "outputs": []
    },
    {
      "cell_type": "markdown",
      "source": [
        "Let's use the deepmol pipeline just because it's more compact to make predictions"
      ],
      "metadata": {
        "id": "iikuv4W-WHsS"
      }
    },
    {
      "cell_type": "code",
      "source": [
        "pipeline = Pipeline.load(\"oral_bioavailability_deepmol\")\n",
        "\n",
        "predictions = pipeline.predict(coconut_dataset_deepmol_dataset, return_invalid=True)"
      ],
      "metadata": {
        "colab": {
          "base_uri": "https://localhost:8080/"
        },
        "id": "5s-10uvkSGQ9",
        "outputId": "a9542cf2-b173-4998-a7ed-b25c5bcb152f"
      },
      "execution_count": null,
      "outputs": [
        {
          "output_type": "stream",
          "name": "stderr",
          "text": [
            "MorganFingerprint: 100%|██████████| 19999/19999 [00:18<00:00, 1063.21it/s]\n"
          ]
        }
      ]
    },
    {
      "cell_type": "code",
      "source": [
        "# prompt: create a new dataframe with the predictions and ids of the molecule\n",
        "\n",
        "import pandas as pd\n",
        "\n",
        "# Assuming 'predictions' and 'test_df' are defined from the previous code\n",
        "# Create a DataFrame with predictions and IDs\n",
        "results_df = pd.DataFrame({'MoleculeID': coconut_dataset['identifier'],\n",
        "                           \"smiles\": coconut_dataset['canonical_smiles'],\n",
        "                           'Prediction': predictions})\n",
        "\n",
        "# Display the DataFrame\n",
        "results_df\n"
      ],
      "metadata": {
        "colab": {
          "base_uri": "https://localhost:8080/",
          "height": 423
        },
        "id": "EsNrB3-dVpqX",
        "outputId": "4de85daa-7d52-4c21-956e-b3d986c63e8b"
      },
      "execution_count": null,
      "outputs": [
        {
          "output_type": "execute_result",
          "data": {
            "text/plain": [
              "         MoleculeID                                             smiles   \n",
              "0      CNP0194087.3  C=C1C(=O)O[C@@H]2[C@H]3C(C)=C(O)C(=O)[C@H]3[C@...  \\\n",
              "1      CNP0077749.0                                 C=NN1OC=C2N=CC=C21   \n",
              "2      CNP0299490.1  COCCCNC(=O)C1=CC=CC=C1N1C(=O)N2CCC3=C(NC4=CC=C...   \n",
              "3      CNP0387685.0  COC1=CC=C(OC)C(C=C2OC3=CC(OCC(=O)N4CCC(C(=O)O)...   \n",
              "4      CNP0375958.0  COC1=CC(C2CC(=O)OC3=C2C(=O)N(CCC2=CC=C(O)C=C2)...   \n",
              "...             ...                                                ...   \n",
              "19994  CNP0387086.0  COC1=CC=CC=C1N1C(=O)NC(O)=C(C2NCCC3=C2NC2=CC=C...   \n",
              "19995  CNP0387128.1  COC1=CC=CC=C1CN1C(=O)[C@@H]2C(C(C)O)NC3(C(=O)N...   \n",
              "19996  CNP0141924.0            O=C1C=C(C2=CC=CC=C2)C2=C(O)C=C(O)C=C2O1   \n",
              "19997  CNP0230430.0   CC(=O)COC1=CC=C2C(=O)C(=CC3=CC=C4OCOC4=C3)OC2=C1   \n",
              "19998  CNP0338566.0  CC1=CC=C(C2=NC(C(=O)NCC3CCCO3)=CC3=C2NC2=CC=CC...   \n",
              "\n",
              "       Prediction  \n",
              "0             1.0  \n",
              "1             1.0  \n",
              "2             1.0  \n",
              "3             1.0  \n",
              "4             1.0  \n",
              "...           ...  \n",
              "19994         1.0  \n",
              "19995         1.0  \n",
              "19996         1.0  \n",
              "19997         1.0  \n",
              "19998         1.0  \n",
              "\n",
              "[19999 rows x 3 columns]"
            ],
            "text/html": [
              "\n",
              "  <div id=\"df-685291bf-9b09-46e9-b624-83dd73a768f4\" class=\"colab-df-container\">\n",
              "    <div>\n",
              "<style scoped>\n",
              "    .dataframe tbody tr th:only-of-type {\n",
              "        vertical-align: middle;\n",
              "    }\n",
              "\n",
              "    .dataframe tbody tr th {\n",
              "        vertical-align: top;\n",
              "    }\n",
              "\n",
              "    .dataframe thead th {\n",
              "        text-align: right;\n",
              "    }\n",
              "</style>\n",
              "<table border=\"1\" class=\"dataframe\">\n",
              "  <thead>\n",
              "    <tr style=\"text-align: right;\">\n",
              "      <th></th>\n",
              "      <th>MoleculeID</th>\n",
              "      <th>smiles</th>\n",
              "      <th>Prediction</th>\n",
              "    </tr>\n",
              "  </thead>\n",
              "  <tbody>\n",
              "    <tr>\n",
              "      <th>0</th>\n",
              "      <td>CNP0194087.3</td>\n",
              "      <td>C=C1C(=O)O[C@@H]2[C@H]3C(C)=C(O)C(=O)[C@H]3[C@...</td>\n",
              "      <td>1.0</td>\n",
              "    </tr>\n",
              "    <tr>\n",
              "      <th>1</th>\n",
              "      <td>CNP0077749.0</td>\n",
              "      <td>C=NN1OC=C2N=CC=C21</td>\n",
              "      <td>1.0</td>\n",
              "    </tr>\n",
              "    <tr>\n",
              "      <th>2</th>\n",
              "      <td>CNP0299490.1</td>\n",
              "      <td>COCCCNC(=O)C1=CC=CC=C1N1C(=O)N2CCC3=C(NC4=CC=C...</td>\n",
              "      <td>1.0</td>\n",
              "    </tr>\n",
              "    <tr>\n",
              "      <th>3</th>\n",
              "      <td>CNP0387685.0</td>\n",
              "      <td>COC1=CC=C(OC)C(C=C2OC3=CC(OCC(=O)N4CCC(C(=O)O)...</td>\n",
              "      <td>1.0</td>\n",
              "    </tr>\n",
              "    <tr>\n",
              "      <th>4</th>\n",
              "      <td>CNP0375958.0</td>\n",
              "      <td>COC1=CC(C2CC(=O)OC3=C2C(=O)N(CCC2=CC=C(O)C=C2)...</td>\n",
              "      <td>1.0</td>\n",
              "    </tr>\n",
              "    <tr>\n",
              "      <th>...</th>\n",
              "      <td>...</td>\n",
              "      <td>...</td>\n",
              "      <td>...</td>\n",
              "    </tr>\n",
              "    <tr>\n",
              "      <th>19994</th>\n",
              "      <td>CNP0387086.0</td>\n",
              "      <td>COC1=CC=CC=C1N1C(=O)NC(O)=C(C2NCCC3=C2NC2=CC=C...</td>\n",
              "      <td>1.0</td>\n",
              "    </tr>\n",
              "    <tr>\n",
              "      <th>19995</th>\n",
              "      <td>CNP0387128.1</td>\n",
              "      <td>COC1=CC=CC=C1CN1C(=O)[C@@H]2C(C(C)O)NC3(C(=O)N...</td>\n",
              "      <td>1.0</td>\n",
              "    </tr>\n",
              "    <tr>\n",
              "      <th>19996</th>\n",
              "      <td>CNP0141924.0</td>\n",
              "      <td>O=C1C=C(C2=CC=CC=C2)C2=C(O)C=C(O)C=C2O1</td>\n",
              "      <td>1.0</td>\n",
              "    </tr>\n",
              "    <tr>\n",
              "      <th>19997</th>\n",
              "      <td>CNP0230430.0</td>\n",
              "      <td>CC(=O)COC1=CC=C2C(=O)C(=CC3=CC=C4OCOC4=C3)OC2=C1</td>\n",
              "      <td>1.0</td>\n",
              "    </tr>\n",
              "    <tr>\n",
              "      <th>19998</th>\n",
              "      <td>CNP0338566.0</td>\n",
              "      <td>CC1=CC=C(C2=NC(C(=O)NCC3CCCO3)=CC3=C2NC2=CC=CC...</td>\n",
              "      <td>1.0</td>\n",
              "    </tr>\n",
              "  </tbody>\n",
              "</table>\n",
              "<p>19999 rows × 3 columns</p>\n",
              "</div>\n",
              "    <div class=\"colab-df-buttons\">\n",
              "\n",
              "  <div class=\"colab-df-container\">\n",
              "    <button class=\"colab-df-convert\" onclick=\"convertToInteractive('df-685291bf-9b09-46e9-b624-83dd73a768f4')\"\n",
              "            title=\"Convert this dataframe to an interactive table.\"\n",
              "            style=\"display:none;\">\n",
              "\n",
              "  <svg xmlns=\"http://www.w3.org/2000/svg\" height=\"24px\" viewBox=\"0 -960 960 960\">\n",
              "    <path d=\"M120-120v-720h720v720H120Zm60-500h600v-160H180v160Zm220 220h160v-160H400v160Zm0 220h160v-160H400v160ZM180-400h160v-160H180v160Zm440 0h160v-160H620v160ZM180-180h160v-160H180v160Zm440 0h160v-160H620v160Z\"/>\n",
              "  </svg>\n",
              "    </button>\n",
              "\n",
              "  <style>\n",
              "    .colab-df-container {\n",
              "      display:flex;\n",
              "      gap: 12px;\n",
              "    }\n",
              "\n",
              "    .colab-df-convert {\n",
              "      background-color: #E8F0FE;\n",
              "      border: none;\n",
              "      border-radius: 50%;\n",
              "      cursor: pointer;\n",
              "      display: none;\n",
              "      fill: #1967D2;\n",
              "      height: 32px;\n",
              "      padding: 0 0 0 0;\n",
              "      width: 32px;\n",
              "    }\n",
              "\n",
              "    .colab-df-convert:hover {\n",
              "      background-color: #E2EBFA;\n",
              "      box-shadow: 0px 1px 2px rgba(60, 64, 67, 0.3), 0px 1px 3px 1px rgba(60, 64, 67, 0.15);\n",
              "      fill: #174EA6;\n",
              "    }\n",
              "\n",
              "    .colab-df-buttons div {\n",
              "      margin-bottom: 4px;\n",
              "    }\n",
              "\n",
              "    [theme=dark] .colab-df-convert {\n",
              "      background-color: #3B4455;\n",
              "      fill: #D2E3FC;\n",
              "    }\n",
              "\n",
              "    [theme=dark] .colab-df-convert:hover {\n",
              "      background-color: #434B5C;\n",
              "      box-shadow: 0px 1px 3px 1px rgba(0, 0, 0, 0.15);\n",
              "      filter: drop-shadow(0px 1px 2px rgba(0, 0, 0, 0.3));\n",
              "      fill: #FFFFFF;\n",
              "    }\n",
              "  </style>\n",
              "\n",
              "    <script>\n",
              "      const buttonEl =\n",
              "        document.querySelector('#df-685291bf-9b09-46e9-b624-83dd73a768f4 button.colab-df-convert');\n",
              "      buttonEl.style.display =\n",
              "        google.colab.kernel.accessAllowed ? 'block' : 'none';\n",
              "\n",
              "      async function convertToInteractive(key) {\n",
              "        const element = document.querySelector('#df-685291bf-9b09-46e9-b624-83dd73a768f4');\n",
              "        const dataTable =\n",
              "          await google.colab.kernel.invokeFunction('convertToInteractive',\n",
              "                                                    [key], {});\n",
              "        if (!dataTable) return;\n",
              "\n",
              "        const docLinkHtml = 'Like what you see? Visit the ' +\n",
              "          '<a target=\"_blank\" href=https://colab.research.google.com/notebooks/data_table.ipynb>data table notebook</a>'\n",
              "          + ' to learn more about interactive tables.';\n",
              "        element.innerHTML = '';\n",
              "        dataTable['output_type'] = 'display_data';\n",
              "        await google.colab.output.renderOutput(dataTable, element);\n",
              "        const docLink = document.createElement('div');\n",
              "        docLink.innerHTML = docLinkHtml;\n",
              "        element.appendChild(docLink);\n",
              "      }\n",
              "    </script>\n",
              "  </div>\n",
              "\n",
              "\n",
              "<div id=\"df-569319df-4f40-4c21-bab7-8d26ffc9b9b9\">\n",
              "  <button class=\"colab-df-quickchart\" onclick=\"quickchart('df-569319df-4f40-4c21-bab7-8d26ffc9b9b9')\"\n",
              "            title=\"Suggest charts\"\n",
              "            style=\"display:none;\">\n",
              "\n",
              "<svg xmlns=\"http://www.w3.org/2000/svg\" height=\"24px\"viewBox=\"0 0 24 24\"\n",
              "     width=\"24px\">\n",
              "    <g>\n",
              "        <path d=\"M19 3H5c-1.1 0-2 .9-2 2v14c0 1.1.9 2 2 2h14c1.1 0 2-.9 2-2V5c0-1.1-.9-2-2-2zM9 17H7v-7h2v7zm4 0h-2V7h2v10zm4 0h-2v-4h2v4z\"/>\n",
              "    </g>\n",
              "</svg>\n",
              "  </button>\n",
              "\n",
              "<style>\n",
              "  .colab-df-quickchart {\n",
              "      --bg-color: #E8F0FE;\n",
              "      --fill-color: #1967D2;\n",
              "      --hover-bg-color: #E2EBFA;\n",
              "      --hover-fill-color: #174EA6;\n",
              "      --disabled-fill-color: #AAA;\n",
              "      --disabled-bg-color: #DDD;\n",
              "  }\n",
              "\n",
              "  [theme=dark] .colab-df-quickchart {\n",
              "      --bg-color: #3B4455;\n",
              "      --fill-color: #D2E3FC;\n",
              "      --hover-bg-color: #434B5C;\n",
              "      --hover-fill-color: #FFFFFF;\n",
              "      --disabled-bg-color: #3B4455;\n",
              "      --disabled-fill-color: #666;\n",
              "  }\n",
              "\n",
              "  .colab-df-quickchart {\n",
              "    background-color: var(--bg-color);\n",
              "    border: none;\n",
              "    border-radius: 50%;\n",
              "    cursor: pointer;\n",
              "    display: none;\n",
              "    fill: var(--fill-color);\n",
              "    height: 32px;\n",
              "    padding: 0;\n",
              "    width: 32px;\n",
              "  }\n",
              "\n",
              "  .colab-df-quickchart:hover {\n",
              "    background-color: var(--hover-bg-color);\n",
              "    box-shadow: 0 1px 2px rgba(60, 64, 67, 0.3), 0 1px 3px 1px rgba(60, 64, 67, 0.15);\n",
              "    fill: var(--button-hover-fill-color);\n",
              "  }\n",
              "\n",
              "  .colab-df-quickchart-complete:disabled,\n",
              "  .colab-df-quickchart-complete:disabled:hover {\n",
              "    background-color: var(--disabled-bg-color);\n",
              "    fill: var(--disabled-fill-color);\n",
              "    box-shadow: none;\n",
              "  }\n",
              "\n",
              "  .colab-df-spinner {\n",
              "    border: 2px solid var(--fill-color);\n",
              "    border-color: transparent;\n",
              "    border-bottom-color: var(--fill-color);\n",
              "    animation:\n",
              "      spin 1s steps(1) infinite;\n",
              "  }\n",
              "\n",
              "  @keyframes spin {\n",
              "    0% {\n",
              "      border-color: transparent;\n",
              "      border-bottom-color: var(--fill-color);\n",
              "      border-left-color: var(--fill-color);\n",
              "    }\n",
              "    20% {\n",
              "      border-color: transparent;\n",
              "      border-left-color: var(--fill-color);\n",
              "      border-top-color: var(--fill-color);\n",
              "    }\n",
              "    30% {\n",
              "      border-color: transparent;\n",
              "      border-left-color: var(--fill-color);\n",
              "      border-top-color: var(--fill-color);\n",
              "      border-right-color: var(--fill-color);\n",
              "    }\n",
              "    40% {\n",
              "      border-color: transparent;\n",
              "      border-right-color: var(--fill-color);\n",
              "      border-top-color: var(--fill-color);\n",
              "    }\n",
              "    60% {\n",
              "      border-color: transparent;\n",
              "      border-right-color: var(--fill-color);\n",
              "    }\n",
              "    80% {\n",
              "      border-color: transparent;\n",
              "      border-right-color: var(--fill-color);\n",
              "      border-bottom-color: var(--fill-color);\n",
              "    }\n",
              "    90% {\n",
              "      border-color: transparent;\n",
              "      border-bottom-color: var(--fill-color);\n",
              "    }\n",
              "  }\n",
              "</style>\n",
              "\n",
              "  <script>\n",
              "    async function quickchart(key) {\n",
              "      const quickchartButtonEl =\n",
              "        document.querySelector('#' + key + ' button');\n",
              "      quickchartButtonEl.disabled = true;  // To prevent multiple clicks.\n",
              "      quickchartButtonEl.classList.add('colab-df-spinner');\n",
              "      try {\n",
              "        const charts = await google.colab.kernel.invokeFunction(\n",
              "            'suggestCharts', [key], {});\n",
              "      } catch (error) {\n",
              "        console.error('Error during call to suggestCharts:', error);\n",
              "      }\n",
              "      quickchartButtonEl.classList.remove('colab-df-spinner');\n",
              "      quickchartButtonEl.classList.add('colab-df-quickchart-complete');\n",
              "    }\n",
              "    (() => {\n",
              "      let quickchartButtonEl =\n",
              "        document.querySelector('#df-569319df-4f40-4c21-bab7-8d26ffc9b9b9 button');\n",
              "      quickchartButtonEl.style.display =\n",
              "        google.colab.kernel.accessAllowed ? 'block' : 'none';\n",
              "    })();\n",
              "  </script>\n",
              "</div>\n",
              "\n",
              "  <div id=\"id_1b3c9982-5298-4d93-8e34-fcb6c75a4011\">\n",
              "    <style>\n",
              "      .colab-df-generate {\n",
              "        background-color: #E8F0FE;\n",
              "        border: none;\n",
              "        border-radius: 50%;\n",
              "        cursor: pointer;\n",
              "        display: none;\n",
              "        fill: #1967D2;\n",
              "        height: 32px;\n",
              "        padding: 0 0 0 0;\n",
              "        width: 32px;\n",
              "      }\n",
              "\n",
              "      .colab-df-generate:hover {\n",
              "        background-color: #E2EBFA;\n",
              "        box-shadow: 0px 1px 2px rgba(60, 64, 67, 0.3), 0px 1px 3px 1px rgba(60, 64, 67, 0.15);\n",
              "        fill: #174EA6;\n",
              "      }\n",
              "\n",
              "      [theme=dark] .colab-df-generate {\n",
              "        background-color: #3B4455;\n",
              "        fill: #D2E3FC;\n",
              "      }\n",
              "\n",
              "      [theme=dark] .colab-df-generate:hover {\n",
              "        background-color: #434B5C;\n",
              "        box-shadow: 0px 1px 3px 1px rgba(0, 0, 0, 0.15);\n",
              "        filter: drop-shadow(0px 1px 2px rgba(0, 0, 0, 0.3));\n",
              "        fill: #FFFFFF;\n",
              "      }\n",
              "    </style>\n",
              "    <button class=\"colab-df-generate\" onclick=\"generateWithVariable('results_df')\"\n",
              "            title=\"Generate code using this dataframe.\"\n",
              "            style=\"display:none;\">\n",
              "\n",
              "  <svg xmlns=\"http://www.w3.org/2000/svg\" height=\"24px\"viewBox=\"0 0 24 24\"\n",
              "       width=\"24px\">\n",
              "    <path d=\"M7,19H8.4L18.45,9,17,7.55,7,17.6ZM5,21V16.75L18.45,3.32a2,2,0,0,1,2.83,0l1.4,1.43a1.91,1.91,0,0,1,.58,1.4,1.91,1.91,0,0,1-.58,1.4L9.25,21ZM18.45,9,17,7.55Zm-12,3A5.31,5.31,0,0,0,4.9,8.1,5.31,5.31,0,0,0,1,6.5,5.31,5.31,0,0,0,4.9,4.9,5.31,5.31,0,0,0,6.5,1,5.31,5.31,0,0,0,8.1,4.9,5.31,5.31,0,0,0,12,6.5,5.46,5.46,0,0,0,6.5,12Z\"/>\n",
              "  </svg>\n",
              "    </button>\n",
              "    <script>\n",
              "      (() => {\n",
              "      const buttonEl =\n",
              "        document.querySelector('#id_1b3c9982-5298-4d93-8e34-fcb6c75a4011 button.colab-df-generate');\n",
              "      buttonEl.style.display =\n",
              "        google.colab.kernel.accessAllowed ? 'block' : 'none';\n",
              "\n",
              "      buttonEl.onclick = () => {\n",
              "        google.colab.notebook.generateWithVariable('results_df');\n",
              "      }\n",
              "      })();\n",
              "    </script>\n",
              "  </div>\n",
              "\n",
              "    </div>\n",
              "  </div>\n"
            ],
            "application/vnd.google.colaboratory.intrinsic+json": {
              "type": "dataframe",
              "variable_name": "results_df",
              "summary": "{\n  \"name\": \"results_df\",\n  \"rows\": 19999,\n  \"fields\": [\n    {\n      \"column\": \"MoleculeID\",\n      \"properties\": {\n        \"dtype\": \"string\",\n        \"num_unique_values\": 19999,\n        \"samples\": [\n          \"CNP0291860.1\",\n          \"CNP0552061.1\",\n          \"CNP0099638.1\"\n        ],\n        \"semantic_type\": \"\",\n        \"description\": \"\"\n      }\n    },\n    {\n      \"column\": \"smiles\",\n      \"properties\": {\n        \"dtype\": \"string\",\n        \"num_unique_values\": 19999,\n        \"samples\": [\n          \"CC1=CC(O[C@@H]2O[C@H](COC(=O)C3=CC(O)=C(O)C(O)=C3)[C@@H](O)[C@H](O)[C@H]2O)=CC=C1O\",\n          \"CCCCCCCCCCCCCCC(=O)O[C@H](COC(=O)CCCCCCCCCCCC)COC(=O)CCCCCCCCCCCCCC(C)C\",\n          \"C[C@H](O)CNC1=CC(CO)=CC([C@H]2C#C[C@@H]3CC(=O)OC4=CC(O)=C(C=C43)C[C@H]3OC(=O)C(=C4CCC5=CC=C(C=C5C[C@H]4O)C[C@H]4C(=O)CC[C@H]5[C@H]4CCCC35O)C2)=C1\"\n        ],\n        \"semantic_type\": \"\",\n        \"description\": \"\"\n      }\n    },\n    {\n      \"column\": \"Prediction\",\n      \"properties\": {\n        \"dtype\": \"number\",\n        \"std\": 0.35277111771944714,\n        \"min\": 0.0,\n        \"max\": 1.0,\n        \"num_unique_values\": 2,\n        \"samples\": [\n          0.0,\n          1.0\n        ],\n        \"semantic_type\": \"\",\n        \"description\": \"\"\n      }\n    }\n  ]\n}"
            }
          },
          "metadata": {},
          "execution_count": 23
        }
      ]
    },
    {
      "source": [
        "\n",
        "from matplotlib import pyplot as plt\n",
        "results_df['Prediction'].plot(kind='hist', bins=20, title='Prediction')\n",
        "plt.gca().spines[['top', 'right',]].set_visible(False)"
      ],
      "cell_type": "code",
      "execution_count": null,
      "outputs": [
        {
          "output_type": "display_data",
          "data": {
            "text/plain": [
              "<Figure size 640x480 with 1 Axes>"
            ],
            "image/png": "[encoded data removed]"
          },
          "metadata": {}
        }
      ],
      "metadata": {
        "colab": {
          "base_uri": "https://localhost:8080/",
          "height": 452
        },
        "id": "JVOnqZnJWDnT",
        "outputId": "65b4df26-de81-4f43-d656-b68ca2cc1ad0"
      }
    },
    {
      "cell_type": "markdown",
      "source": [
        "Draw molecules that are bioactive"
      ],
      "metadata": {
        "id": "OeCgZaP3DKpr"
      }
    },
    {
      "cell_type": "code",
      "source": [
        "\n",
        "\n",
        "import matplotlib.pyplot as plt\n",
        "\n",
        "from rdkit import Chem\n",
        "from rdkit.Chem import Draw\n",
        "\n",
        "# Assuming 'results_df' is defined from the previous code and contains 'Prediction' column\n",
        "\n",
        "# Filter for non-bioactive molecules (predictions == 0)\n",
        "non_bioactive_molecules = results_df[results_df['Prediction'] == 1]\n",
        "\n",
        "# Select the first 10 non-bioactive molecules for visualization (adjust as needed)\n",
        "molecules_to_draw = non_bioactive_molecules['MoleculeID'].head(10)\n",
        "\n",
        "# Assuming you have a function called draw_molecule to visualize molecules\n",
        "#  You'll need to implement or import this function based on your visualization library.\n",
        "#  Example:\n",
        "def draw_molecule(smiles):\n",
        "    mol = Chem.MolFromSmiles(smiles)\n",
        "    if mol is not None:\n",
        "        img = Draw.MolToImage(mol)\n",
        "        plt.imshow(img)\n",
        "        plt.show()\n",
        "    else:\n",
        "        print(\"Invalid SMILES string\")\n",
        "\n",
        "#Iterate through the chosen molecules and draw them\n",
        "for molecule_id in molecules_to_draw:\n",
        "    smiles = results_df.loc[coconut_dataset['identifier'] == molecule_id, 'smiles'].iloc[0] # Assuming the smiles are in the 'smiles' column\n",
        "    print(f'Drawing molecule: {molecule_id}')\n",
        "    draw_molecule(smiles)\n"
      ],
      "metadata": {
        "colab": {
          "base_uri": "https://localhost:8080/",
          "height": 1000
        },
        "id": "HbGql1TPesu0",
        "outputId": "fb5fbb55-dea5-4086-d05d-6bbe7f74f9a8"
      },
      "execution_count": null,
      "outputs": [
        {
          "output_type": "stream",
          "name": "stdout",
          "text": [
            "Drawing molecule: CNP0194087.3\n"
          ]
        },
        {
          "output_type": "display_data",
          "data": {
            "text/plain": [
              "<Figure size 640x480 with 1 Axes>"
            ],
            "image/png": "[encoded data removed]"
          },
          "metadata": {}
        },
        {
          "output_type": "stream",
          "name": "stdout",
          "text": [
            "Drawing molecule: CNP0077749.0\n"
          ]
        },
        {
          "output_type": "display_data",
          "data": {
            "text/plain": [
              "<Figure size 640x480 with 1 Axes>"
            ],
            "image/png": "[encoded data removed]"
          },
          "metadata": {}
        },
        {
          "output_type": "stream",
          "name": "stdout",
          "text": [
            "Drawing molecule: CNP0299490.1\n"
          ]
        },
        {
          "output_type": "display_data",
          "data": {
            "text/plain": [
              "<Figure size 640x480 with 1 Axes>"
            ],
            "image/png": "[encoded data removed]"
          },
          "metadata": {}
        },
        {
          "output_type": "stream",
          "name": "stdout",
          "text": [
            "Drawing molecule: CNP0387685.0\n"
          ]
        },
        {
          "output_type": "display_data",
          "data": {
            "text/plain": [
              "<Figure size 640x480 with 1 Axes>"
            ],
            "image/png": "[encoded data removed]"
          },
          "metadata": {}
        },
        {
          "output_type": "stream",
          "name": "stdout",
          "text": [
            "Drawing molecule: CNP0375958.0\n"
          ]
        },
        {
          "output_type": "display_data",
          "data": {
            "text/plain": [
              "<Figure size 640x480 with 1 Axes>"
            ],
            "image/png": "[encoded data removed]"
          },
          "metadata": {}
        },
        {
          "output_type": "stream",
          "name": "stdout",
          "text": [
            "Drawing molecule: CNP0388743.1\n"
          ]
        },
        {
          "output_type": "display_data",
          "data": {
            "text/plain": [
              "<Figure size 640x480 with 1 Axes>"
            ],
            "image/png": "[encoded data removed]"
          },
          "metadata": {}
        },
        {
          "output_type": "stream",
          "name": "stdout",
          "text": [
            "Drawing molecule: CNP0537194.1\n"
          ]
        },
        {
          "output_type": "display_data",
          "data": {
            "text/plain": [
              "<Figure size 640x480 with 1 Axes>"
            ],
            "image/png": "[encoded data removed]"
          },
          "metadata": {}
        },
        {
          "output_type": "stream",
          "name": "stdout",
          "text": [
            "Drawing molecule: CNP0010674.1\n"
          ]
        },
        {
          "output_type": "display_data",
          "data": {
            "text/plain": [
              "<Figure size 640x480 with 1 Axes>"
            ],
            "image/png": "[encoded data removed]"
          },
          "metadata": {}
        },
        {
          "output_type": "stream",
          "name": "stdout",
          "text": [
            "Drawing molecule: CNP0012472.2\n"
          ]
        },
        {
          "output_type": "display_data",
          "data": {
            "text/plain": [
              "<Figure size 640x480 with 1 Axes>"
            ],
            "image/png": "[encoded data removed]"
          },
          "metadata": {}
        },
        {
          "output_type": "stream",
          "name": "stdout",
          "text": [
            "Drawing molecule: CNP0320059.1\n"
          ]
        },
        {
          "output_type": "display_data",
          "data": {
            "text/plain": [
              "<Figure size 640x480 with 1 Axes>"
            ],
            "image/png": "[encoded data removed]"
          },
          "metadata": {}
        }
      ]
    }
  ]
}